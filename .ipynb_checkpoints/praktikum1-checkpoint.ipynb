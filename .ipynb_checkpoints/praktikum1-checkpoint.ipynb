{
 "cells": [
  {
   "cell_type": "markdown",
   "id": "f20bf86d-bc30-40cb-98ca-8a9ef870f930",
   "metadata": {},
   "source": [
    "PRAKTIKUM 1 Bilangan Ganjil"
   ]
  },
  {
   "cell_type": "code",
   "execution_count": null,
   "id": "1a2c9ad1-49e8-4bff-bcb6-250d68534674",
   "metadata": {},
   "outputs": [
    {
     "name": "stdin",
     "output_type": "stream",
     "text": [
      "Masukkan Jumlah Angka :  2\n"
     ]
    },
    {
     "name": "stdout",
     "output_type": "stream",
     "text": [
      "o-----------o\n",
      "| Angka  1  |\n",
      "o-----------o\n",
      "\u001b[91mJumlah Keseluruhan Angka Ganjil :  1\n",
      "\u001b[0m\n"
     ]
    },
    {
     "name": "stdin",
     "output_type": "stream",
     "text": [
      "Anda ingin mengulang lagi ya/tidak :  4\n"
     ]
    },
    {
     "name": "stdout",
     "output_type": "stream",
     "text": [
      "+======Selesai======+\n",
      "\n",
      "\n"
     ]
    }
   ],
   "source": [
    "#Import Library\n",
    "import colorama\n",
    "from colorama import Fore, Style\n",
    "\n",
    "\n",
    "\n",
    "error = 0 #digunakan untuk menghitung kesalahan exception\n",
    "\n",
    "\n",
    "#Fungsi untuk mencetak bilangan ganjil ambil dari inputan jumlahAngka\n",
    "def printAngkaGanjil(angka) :\n",
    "    jumlah = 0\n",
    "    print(\"o-----------o\")\n",
    "    for i in range(angka+1) :\n",
    "        if i % 2 != 0 :\n",
    "            print(\"| Angka \",i,\" |\")\n",
    "            jumlah = jumlah + i\n",
    "   \n",
    "        if i == angka :\n",
    "            print(\"o-----------o\")\n",
    "            print(Fore.LIGHTRED_EX +\"Jumlah Keseluruhan Angka Ganjil : \",jumlah)\n",
    "            print(Style.RESET_ALL)\n",
    "            cont = str(input(\"Anda ingin mengulang lagi ya/tidak : \"))\n",
    "            if cont == \"ya\" :\n",
    "                print(\"+===================+\\n\\n\")\n",
    "                return 1\n",
    "            else :\n",
    "                print(\"+======Selesai======+\\n\\n\")\n",
    "                return 0\n",
    "#End Fungsi printAngkaGanjil        \n",
    "        \n",
    "    \n",
    "    \n",
    "#Jalankan     \n",
    "while True :\n",
    "    try :\n",
    "        jumlahAngka    = int(input(\"Masukkan Jumlah Angka : \"))\n",
    "        if printAngkaGanjil(jumlahAngka) == 1 :\n",
    "            continue\n",
    "        else :\n",
    "            break\n",
    "                \n",
    "                   \n",
    "    except :\n",
    "        error = error + 1\n",
    "        if error >= 3 : \n",
    "            print(\"Terjadi Kesalahan harap jalankan kembali\")\n",
    "            break\n",
    "        else :\n",
    "            print(\"Yang anda masukkan bukan angka,Coba Lagi\")\n",
    "    \n",
    "\n",
    "\n",
    "\n"
   ]
  },
  {
   "cell_type": "markdown",
   "id": "8f731a73-b2ef-47f0-a5da-01eb9eaf5796",
   "metadata": {
    "tags": []
   },
   "source": [
    "#Aritmethic Series"
   ]
  },
  {
   "cell_type": "code",
   "execution_count": 1,
   "id": "11846438-ad9f-46a0-bf5e-c1f668ca9bad",
   "metadata": {},
   "outputs": [
    {
     "name": "stdin",
     "output_type": "stream",
     "text": [
      "Masukkan Nilai a : 4\n",
      "Masukkan Nilai b : 5\n",
      "Masukkan Nilai n : 4\n"
     ]
    },
    {
     "name": "stdout",
     "output_type": "stream",
     "text": [
      "\n",
      "+===================+\n",
      "U- 1  :  4\n",
      "U- 2  :  9\n",
      "U- 3  :  14\n",
      "U- 4  :  19\n",
      "Hasil Sn :  46.0\n"
     ]
    },
    {
     "name": "stdin",
     "output_type": "stream",
     "text": [
      "Anda ingin mengulang lagi ya/tidak :  ya\n"
     ]
    },
    {
     "name": "stdout",
     "output_type": "stream",
     "text": [
      "+===================+\n",
      "\n",
      "\n"
     ]
    },
    {
     "name": "stdin",
     "output_type": "stream",
     "text": [
      "Masukkan Nilai a : 4\n",
      "Masukkan Nilai b : 5\n",
      "Masukkan Nilai n : 2\n"
     ]
    },
    {
     "name": "stdout",
     "output_type": "stream",
     "text": [
      "\n",
      "+===================+\n",
      "U- 1  :  4\n",
      "U- 2  :  9\n",
      "Hasil Sn :  13.0\n"
     ]
    },
    {
     "name": "stdin",
     "output_type": "stream",
     "text": [
      "Anda ingin mengulang lagi ya/tidak :  tidak\n"
     ]
    },
    {
     "name": "stdout",
     "output_type": "stream",
     "text": [
      "+======Selesai======+\n",
      "\n",
      "\n"
     ]
    }
   ],
   "source": [
    "\n",
    "error = 0 #digunakan untuk menghitung kesalahan exception\n",
    "\n",
    "        \n",
    "        \n",
    "#Fungsi formula Un\n",
    "\n",
    "def mencariUn(a,b,n) :\n",
    "   return a+(n-1)*b\n",
    "    \n",
    "#End Fungsi formula Un\n",
    "\n",
    "\n",
    "#Fungsi formula Un\n",
    "\n",
    "def mencariSn(a,b,n) :\n",
    "   return n/2*(2*a+(n-1)*b)\n",
    "    \n",
    "#End Fungsi formula Un\n",
    "\n",
    "\n",
    "#Jalankan\n",
    "while True :\n",
    "    try :\n",
    "        aVal = int(input(\"Masukkan Nilai a :\"))\n",
    "        bVal = int(input(\"Masukkan Nilai b :\"))\n",
    "        nVal = int(input(\"Masukkan Nilai n :\"))\n",
    "    \n",
    "    except :\n",
    "        error = error+1\n",
    "        if error >=3 :\n",
    "            print(\"Terjadi Kesalahan harap jalankan lagi\")\n",
    "            break\n",
    "        else :\n",
    "            print(\"Data yang anda masukkan salah/bukan angka!, harap coba lagi\")\n",
    "        \n",
    "    else :\n",
    "        print(\"\\n+===================+\")\n",
    "        \n",
    "        for i in range(1,nVal+1) :\n",
    "            print(\"U-\",i,\" : \",mencariUn(aVal,bVal,i))\n",
    "        \n",
    "        print(\"Hasil Sn : \",mencariSn(aVal,bVal,nVal))\n",
    "        cont = str(input(\"Anda ingin mengulang lagi ya/tidak : \"))\n",
    "        if cont == \"ya\" :\n",
    "            print(\"+===================+\\n\\n\")\n",
    "            continue\n",
    "        else :\n",
    "            print(\"+======Selesai======+\\n\\n\")\n",
    "            break"
   ]
  },
  {
   "cell_type": "code",
   "execution_count": null,
   "id": "c57ff9fd-7b8a-43f2-959f-ca65e72a07b6",
   "metadata": {},
   "outputs": [],
   "source": []
  }
 ],
 "metadata": {
  "kernelspec": {
   "display_name": "alpro-env",
   "language": "python",
   "name": "alpro-env"
  },
  "language_info": {
   "codemirror_mode": {
    "name": "ipython",
    "version": 3
   },
   "file_extension": ".py",
   "mimetype": "text/x-python",
   "name": "python",
   "nbconvert_exporter": "python",
   "pygments_lexer": "ipython3",
   "version": "3.7.3"
  }
 },
 "nbformat": 4,
 "nbformat_minor": 5
}
