{
 "cells": [
  {
   "cell_type": "markdown",
   "id": "a5a8bdb5",
   "metadata": {},
   "source": [
    "# Konsep\n",
    "Tulis ringkasan (1 sampai dengan 4 paragraf, jika memungkinkan berikan contoh dalam Python) tentang :\n",
    "1. Tipe Data\n",
    "2. Algoritma (Definisi, Jenis-jenis algoritma, bagaimana menulis algoritma)\n",
    "3. flowchart\n",
    "\n"
   ]
  },
  {
   "cell_type": "markdown",
   "id": "4d80d1a2",
   "metadata": {},
   "source": [
    "#### 1. TIPE DATA"
   ]
  },
  {
   "cell_type": "markdown",
   "id": "f87328ba",
   "metadata": {},
   "source": [
    "Tipe Data diambil dari kata tipe yaitu macam atau jenis dan data adalah suatu informasi atau nilai yang memiliki suatu makna. Jadi Tipe Data adalah pengelompokan suatu nilai/data berdasarkan jenisnya. \n",
    "\n",
    "Tipe data dalam program :\n",
    "- Integer\n",
    "  Integer adalah tipe data numerik yang dimana nilainya berbentuk bilangan bulat, contoh :1,2,3,dst\n",
    "  \n",
    "- Float\n",
    "  Float adalah tipe data yang menangani angka desimal, contoh : 1.2 , 1.4, 3.432\n",
    "\n",
    "- Boolean\n",
    "  Tipe data boolean merupakan tipe data yang memiliki 2 nilai yaitu True dan False.\n",
    "\n",
    "- String\n",
    "  Tipe data string merupakan tipe data yang berbentuk teks dan nilainya bisa berupa karakter/huruf/angka.\n",
    "  \n",
    "- List\n",
    "  Tipe data ini dapat bisa berisi lebih dari 1 data, dan list ini bisa diubah-ubah nilainya.\n",
    "\n",
    "- Tuple\n",
    "  Tipe data ini mirip dengan List tapi perbedaannya nilai di tuple tidak bisa diubah-ubah."
   ]
  },
  {
   "cell_type": "markdown",
   "id": "3cf000d5",
   "metadata": {},
   "source": [
    "#### 2. ALGORITMA"
   ]
  },
  {
   "cell_type": "markdown",
   "id": "26d559c0",
   "metadata": {},
   "source": [
    "##### Definisi\n",
    "Algoritma adalah suatu langkah atau urutan yang digunakan untuk memecahkan suatu masalah.\n",
    "\n",
    "##### Jenis - jenis Algoritma\n",
    "- Sequential algorithm\n",
    "  Yaitu algoritma yang prosesnya urut dari atas ke bawah.\n",
    "- Branch algorithm\n",
    "  Yaitu algoritma yang langkahnya dilakukan bila memenuhi syarat yang ditentukan. contoh\n",
    "  Alexandra mengunci pintu, prosesnya :\n",
    "  1. Alexandra berjalan mendekati pintu\n",
    "  2. Kemudian alexandra menutup pintu\n",
    "  3. Apakah Alexandra membawa kunci? jika iya maka Alexandra menguci pintu jika tidak maka lanjut langkah keempat\n",
    "  4. Cari kunci, tutup dan kunci pintu\n",
    "  \n",
    "  Untuk contoh di pythonnya\n",
    "    \n",
    "~~~python\n",
    "    \n",
    "    orang    = \"Alexandra\"\n",
    "    kunci    = 1 #inisialisasi jml kunci\n",
    "    objek    = \"Pintu\"\n",
    "    terkunci = False\n",
    "  \n",
    "    if kunci == 1 :\n",
    "        terkunci = True\n",
    "        if terkunci == True :\n",
    "            print(orang,\" Menutup dan mengunci \",objek)\n",
    "            print(objek,\" Tertutup dan terkunci\")\n",
    "    else :\n",
    "        kunci = 1\n",
    "        terkunci = True\n",
    "        if terkunci == True :\n",
    "            print(orang,\" Menutup dan mengunci \",objek)\n",
    "            print(objek,\" Tertutup dan terkunci\")\n",
    "~~~\n",
    "\n",
    "\n",
    "- Looping Algorithm\n",
    "  Yaitu algoritma yang menjalankan langkah tertentu secara berulang, contoh dalam kasus Membuat minuman kopi :\n",
    "  1. Siapkan gelas,sendok,kopi sachet,gula,air panas\n",
    "  2. Buka bungkus kopi sachet dan tuangkan kedalam gelas\n",
    "  3. Tuangkan air panas ke gelas\n",
    "  4. Tambahkan gula ke dalam gelas berisi kopi sampai tidak terasa sangat pahit. (poin ini diulang sampai kopi sudah tidak pahit)\n",
    "  5. Aduk dengan sendok dan sajikan\n",
    "  \n",
    "  Untuk contoh di python \n",
    "\n",
    "~~~python\n",
    "    bahan      = ['kopi sachet','gula','air panas']\n",
    "    peralatan  = ['gelas','sendok']\n",
    "    pahit      = True\n",
    "    levelPahit = 5\n",
    "    \n",
    "    print(\"Buka bungkus %s dan tuangkan kedalam %s\"%(bahan[0],peralatan[0]))\n",
    "    print(\"Menuangkan %s ke %s\"%(bahan[2],peralatan[0]))\n",
    "    while pahit :\n",
    "        if levelPahit == 1 :\n",
    "            pahit = False\n",
    "            print(\"Kopi sudah tidak terlalu pahit\")\n",
    "            print(\"Mengaduk kopi dengan %s dan menyajikan kopi\"%(peralatan[1]))\n",
    "        else :\n",
    "            levelPahit-=1\n",
    "            print(\"Menambahkan gula\")\n",
    "            \n",
    "~~~\n",
    "  \n",
    "##### Bagaimana Menulis Algoritma\n",
    "Cara menulis algortima bisa menggunakan flowchart, pseudo code, tulisan deskriptif"
   ]
  },
  {
   "cell_type": "markdown",
   "id": "910d300f",
   "metadata": {},
   "source": [
    "#### 3. FLOWCHART"
   ]
  },
  {
   "cell_type": "markdown",
   "id": "bdf1fbe8",
   "metadata": {},
   "source": [
    "Flowchart adalah rangkaian simbol yang menggambarkan suatu urutan langkah untuk memecahkan suatu masalah. Fungsinya untuk memudahkan kita memvisualisasi algoritma kita buat kedalam simbol.\n",
    "\n",
    "\n",
    "\n",
    "##### Simbol flowchart\n",
    "![alt text](https://www.dicoding.com/blog/wp-content/uploads/2021/07/Simbol-flowchart-1024x685.jpg \"Title\")\n",
    "https://www.dicoding.com/blog/wp-content/uploads/2021/07/Simbol-flowchart-1024x685.jpg"
   ]
  },
  {
   "cell_type": "markdown",
   "id": "408b7c6b",
   "metadata": {},
   "source": [
    "# Implementasi"
   ]
  },
  {
   "cell_type": "markdown",
   "id": "05855bf3",
   "metadata": {},
   "source": [
    "#### 2.1 ALGORITMA BILANGAN GANJIL\n",
    "Tulis tahapan-tahapan (algoritma) untuk menampilkan sejumlah n bilangan ganjil, dimana n adalah inputan dari user, dan jumlahkan semua bilangan ganjil tersebut."
   ]
  },
  {
   "cell_type": "markdown",
   "id": "0aa39a87",
   "metadata": {},
   "source": [
    "Link flowgorithm https://drive.google.com/drive/folders/1tBGe-7rINoybfaMIeWekGPuh2IxBg39a?usp=sharing"
   ]
  },
  {
   "cell_type": "markdown",
   "id": "3f91b8d3",
   "metadata": {},
   "source": [
    "#### 2.2 PROGRAM BILANGAN GANJIL\n",
    "Konversi algoritma yang sudah ditulis sebelumnya dengan menggunakan bahasa Pemrograman Python.Contoh hasil eksekusi dapat dilihat di Fig.1a or Fig.1b :"
   ]
  },
  {
   "cell_type": "code",
   "execution_count": 8,
   "id": "619d5c55",
   "metadata": {},
   "outputs": [
    {
     "name": "stdout",
     "output_type": "stream",
     "text": [
      "==> Masukkan jumlah bilangan : 3\n",
      "1\n",
      "Bilangan ke- 1 : 1\n",
      "2\n",
      "3\n",
      "Bilangan ke- 2 : 3\n",
      "4\n",
      "5\n",
      "Bilangan ke- 3 : 5\n",
      "6\n",
      "Total =  9\n"
     ]
    }
   ],
   "source": [
    "jmlBilangan = int(input(\"==> Masukkan jumlah bilangan : \")) #digunakan untuk menentukan jumlah bilangan yang ditampilkan\n",
    "total       = 0 #total penjumlahan dari keseluruhan bilangan ganjil\n",
    "noBil       = 1 #nomor bilangan ganjil\n",
    "bil         = 0 #Angka yang akan dicheck sebagai angka ganjil\n",
    "\n",
    "while noBil <= jmlBilangan :\n",
    "    if bil % 2 != 0 :\n",
    "        print(\"Bilangan ke- %d : %d\"%(noBil,bil))\n",
    "        noBil+=1\n",
    "        total = total+bil\n",
    "    bil+=1\n",
    "\n",
    "print(\"Total = \",total)"
   ]
  },
  {
   "cell_type": "markdown",
   "id": "36bc503b",
   "metadata": {},
   "source": [
    "#### 2.3 ALGORITMA DERET ARITMATIKA\n",
    "Tulis algoritma dengan menggunakan flowchart untuk menampilkan sejumlah bilangan dan total jumlah dari bilangan-bilangan tersebut, berdasarkan persamaan deret aritmatika.\n",
    "\n",
    " - Un = a+(n-1)b\n",
    " - Sn = n/2(2a+(n-1)b)\n",
    "\n",
    "dimana\n",
    "- Un : suku ke-n (n input dari user)\n",
    "- a  : suku awal(input dari user)\n",
    "- b  : beda(input dari user), and\n",
    "- Sn : Total jumlah seluruh suku, mulai dari suku pertama sampai suku ke-n"
   ]
  },
  {
   "cell_type": "markdown",
   "id": "12e7d8fb",
   "metadata": {},
   "source": [
    "Link flowgorithm https://drive.google.com/drive/folders/1tBGe-7rINoybfaMIeWekGPuh2IxBg39a?usp=sharing"
   ]
  },
  {
   "cell_type": "markdown",
   "id": "f7585392",
   "metadata": {},
   "source": [
    "#### 2.4 PROGRAM DERET ARITMATIKA"
   ]
  },
  {
   "cell_type": "code",
   "execution_count": 9,
   "id": "3fd45c2e",
   "metadata": {},
   "outputs": [
    {
     "name": "stdout",
     "output_type": "stream",
     "text": [
      "==> Masukkan nilai n : 3.2\n"
     ]
    },
    {
     "ename": "ValueError",
     "evalue": "invalid literal for int() with base 10: '3.2'",
     "output_type": "error",
     "traceback": [
      "\u001b[0;31m---------------------------------------------------------------------------\u001b[0m",
      "\u001b[0;31mValueError\u001b[0m                                Traceback (most recent call last)",
      "\u001b[0;32m/tmp/ipykernel_16489/1443492135.py\u001b[0m in \u001b[0;36m<module>\u001b[0;34m\u001b[0m\n\u001b[0;32m----> 1\u001b[0;31m \u001b[0mn\u001b[0m \u001b[0;34m=\u001b[0m \u001b[0mint\u001b[0m\u001b[0;34m(\u001b[0m\u001b[0minput\u001b[0m\u001b[0;34m(\u001b[0m\u001b[0;34m\"==> Masukkan nilai n : \"\u001b[0m\u001b[0;34m)\u001b[0m\u001b[0;34m)\u001b[0m \u001b[0;31m#digunakan untuk menentukan banyaknya angka yang akan ditampilkan\u001b[0m\u001b[0;34m\u001b[0m\u001b[0;34m\u001b[0m\u001b[0m\n\u001b[0m\u001b[1;32m      2\u001b[0m \u001b[0ma\u001b[0m \u001b[0;34m=\u001b[0m \u001b[0mint\u001b[0m\u001b[0;34m(\u001b[0m\u001b[0minput\u001b[0m\u001b[0;34m(\u001b[0m\u001b[0;34m\"==> Masukkan nilai a : \"\u001b[0m\u001b[0;34m)\u001b[0m\u001b[0;34m)\u001b[0m \u001b[0;31m#digunakan untuk menentukan nilai awal\u001b[0m\u001b[0;34m\u001b[0m\u001b[0;34m\u001b[0m\u001b[0m\n\u001b[1;32m      3\u001b[0m \u001b[0mb\u001b[0m \u001b[0;34m=\u001b[0m \u001b[0mint\u001b[0m\u001b[0;34m(\u001b[0m\u001b[0minput\u001b[0m\u001b[0;34m(\u001b[0m\u001b[0;34m\"==> Masukkan nilai b : \"\u001b[0m\u001b[0;34m)\u001b[0m\u001b[0;34m)\u001b[0m \u001b[0;31m#digunakan untuk menentukan nilai beda\u001b[0m\u001b[0;34m\u001b[0m\u001b[0;34m\u001b[0m\u001b[0m\n\u001b[1;32m      4\u001b[0m \u001b[0;34m\u001b[0m\u001b[0m\n\u001b[1;32m      5\u001b[0m \u001b[0;32mfor\u001b[0m \u001b[0mi\u001b[0m \u001b[0;32min\u001b[0m \u001b[0mrange\u001b[0m\u001b[0;34m(\u001b[0m\u001b[0;36m1\u001b[0m\u001b[0;34m,\u001b[0m\u001b[0mn\u001b[0m\u001b[0;34m+\u001b[0m\u001b[0;36m1\u001b[0m\u001b[0;34m)\u001b[0m \u001b[0;34m:\u001b[0m\u001b[0;34m\u001b[0m\u001b[0;34m\u001b[0m\u001b[0m\n",
      "\u001b[0;31mValueError\u001b[0m: invalid literal for int() with base 10: '3.2'"
     ]
    }
   ],
   "source": [
    "n = int(input(\"==> Masukkan nilai n : \")) #digunakan untuk menentukan banyaknya angka yang akan ditampilkan\n",
    "a = int(input(\"==> Masukkan nilai a : \")) #digunakan untuk menentukan nilai awal\n",
    "b = int(input(\"==> Masukkan nilai b : \")) #digunakan untuk menentukan nilai beda\n",
    "\n",
    "for i in range(1,n+1) : \n",
    "    un = a+(i-1)*b\n",
    "    print(\"u- %d = %d \"%(i,un))\n",
    "\n",
    "sn = n/2*(2*a+(n-1)*b)\n",
    "print(\"=> Sn = \",sn)\n"
   ]
  },
  {
   "cell_type": "code",
   "execution_count": null,
   "id": "e4a1c319",
   "metadata": {},
   "outputs": [],
   "source": []
  }
 ],
 "metadata": {
  "kernelspec": {
   "display_name": "alpro-env",
   "language": "python",
   "name": "alpro-env"
  },
  "language_info": {
   "codemirror_mode": {
    "name": "ipython",
    "version": 3
   },
   "file_extension": ".py",
   "mimetype": "text/x-python",
   "name": "python",
   "nbconvert_exporter": "python",
   "pygments_lexer": "ipython3",
   "version": "3.7.3"
  }
 },
 "nbformat": 4,
 "nbformat_minor": 5
}
