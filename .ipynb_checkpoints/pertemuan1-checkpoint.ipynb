{
 "cells": [
  {
   "cell_type": "code",
   "execution_count": 1,
   "id": "6d831ca8-312f-48f6-83ff-7bc909d2c3e1",
   "metadata": {},
   "outputs": [
    {
     "name": "stdout",
     "output_type": "stream",
     "text": [
      "Hello World\n",
      "5\n"
     ]
    }
   ],
   "source": [
    "A=5\n",
    "a='Hello World'\n",
    "print(a)\n",
    "print(A)"
   ]
  },
  {
   "cell_type": "code",
   "execution_count": 2,
   "id": "549beb7f-3514-4245-8fca-2177dbb9690a",
   "metadata": {},
   "outputs": [
    {
     "name": "stdout",
     "output_type": "stream",
     "text": [
      " \n",
      "Hello World\n",
      "10\n",
      "14.3\n",
      "\n"
     ]
    }
   ],
   "source": [
    "strData=\"Hello World\"\n",
    "numData=10\n",
    "reData=14.3\n",
    "\n",
    "print(\"\"\" \n",
    "%s\n",
    "%s\n",
    "%s\n",
    "\"\"\" % (strData,numData,reData))"
   ]
  },
  {
   "cell_type": "code",
   "execution_count": 3,
   "id": "85be0fb9-bdac-4094-84d3-4adc695428a8",
   "metadata": {},
   "outputs": [
    {
     "name": "stdout",
     "output_type": "stream",
     "text": [
      "1 0 0\n"
     ]
    }
   ],
   "source": [
    "print(1,000,000)"
   ]
  },
  {
   "cell_type": "code",
   "execution_count": 4,
   "id": "bf374a17-65f9-43d3-9844-91aaf7ac1d02",
   "metadata": {},
   "outputs": [
    {
     "ename": "SyntaxError",
     "evalue": "invalid syntax (696744912.py, line 1)",
     "output_type": "error",
     "traceback": [
      "\u001b[0;36m  File \u001b[0;32m\"/tmp/ipykernel_17557/696744912.py\"\u001b[0;36m, line \u001b[0;32m1\u001b[0m\n\u001b[0;31m    print(1.000.000)\u001b[0m\n\u001b[0m                  ^\u001b[0m\n\u001b[0;31mSyntaxError\u001b[0m\u001b[0;31m:\u001b[0m invalid syntax\n"
     ]
    }
   ],
   "source": [
    "print(1.000.000)"
   ]
  },
  {
   "cell_type": "code",
   "execution_count": 5,
   "id": "cc663c8e-5941-4f15-86f8-2a1eb7dc7d63",
   "metadata": {},
   "outputs": [
    {
     "name": "stdout",
     "output_type": "stream",
     "text": [
      "1.000.000\n"
     ]
    }
   ],
   "source": [
    "print('1.000.000')"
   ]
  },
  {
   "cell_type": "code",
   "execution_count": null,
   "id": "c86db4eb-b2af-4457-b077-00f45809bba0",
   "metadata": {},
   "outputs": [],
   "source": []
  }
 ],
 "metadata": {
  "kernelspec": {
   "display_name": "alpro-env",
   "language": "python",
   "name": "alpro-env"
  },
  "language_info": {
   "codemirror_mode": {
    "name": "ipython",
    "version": 3
   },
   "file_extension": ".py",
   "mimetype": "text/x-python",
   "name": "python",
   "nbconvert_exporter": "python",
   "pygments_lexer": "ipython3",
   "version": "3.7.3"
  }
 },
 "nbformat": 4,
 "nbformat_minor": 5
}
