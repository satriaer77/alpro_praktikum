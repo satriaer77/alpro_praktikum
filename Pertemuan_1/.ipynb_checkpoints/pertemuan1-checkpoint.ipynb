{
 "cells": [
  {
   "cell_type": "code",
   "execution_count": 1,
   "id": "6d831ca8-312f-48f6-83ff-7bc909d2c3e1",
   "metadata": {},
   "outputs": [
    {
     "name": "stdout",
     "output_type": "stream",
     "text": [
      "Hello World\n",
      "5\n"
     ]
    }
   ],
   "source": [
    "A=5\n",
    "a='Hello World'\n",
    "print(a)\n",
    "print(A)"
   ]
  },
  {
   "cell_type": "code",
   "execution_count": 2,
   "id": "549beb7f-3514-4245-8fca-2177dbb9690a",
   "metadata": {},
   "outputs": [
    {
     "name": "stdout",
     "output_type": "stream",
     "text": [
      " \n",
      "Hello World\n",
      "10\n",
      "14.3\n",
      "\n"
     ]
    }
   ],
   "source": [
    "strData=\"Hello World\"\n",
    "numData=10\n",
    "reData=14.3\n",
    "\n",
    "print(\"\"\" \n",
    "%s\n",
    "%s\n",
    "%s\n",
    "\"\"\" % (strData,numData,reData))"
   ]
  },
  {
   "cell_type": "code",
   "execution_count": 3,
   "id": "85be0fb9-bdac-4094-84d3-4adc695428a8",
   "metadata": {},
   "outputs": [
    {
     "name": "stdout",
     "output_type": "stream",
     "text": [
      "1 0 0\n"
     ]
    }
   ],
   "source": [
    "print(1,000,000)"
   ]
  },
  {
   "cell_type": "code",
   "execution_count": 4,
   "id": "bf374a17-65f9-43d3-9844-91aaf7ac1d02",
   "metadata": {},
   "outputs": [
    {
     "ename": "SyntaxError",
     "evalue": "invalid syntax (696744912.py, line 1)",
     "output_type": "error",
     "traceback": [
      "\u001b[0;36m  File \u001b[0;32m\"/tmp/ipykernel_17557/696744912.py\"\u001b[0;36m, line \u001b[0;32m1\u001b[0m\n\u001b[0;31m    print(1.000.000)\u001b[0m\n\u001b[0m                  ^\u001b[0m\n\u001b[0;31mSyntaxError\u001b[0m\u001b[0;31m:\u001b[0m invalid syntax\n"
     ]
    }
   ],
   "source": [
    "print(1.000.000)"
   ]
  },
  {
   "cell_type": "code",
   "execution_count": 5,
   "id": "cc663c8e-5941-4f15-86f8-2a1eb7dc7d63",
   "metadata": {},
   "outputs": [
    {
     "name": "stdout",
     "output_type": "stream",
     "text": [
      "1.000.000\n"
     ]
    }
   ],
   "source": [
    "print('1.000.000')"
   ]
  },
  {
   "cell_type": "code",
   "execution_count": 6,
   "id": "c86db4eb-b2af-4457-b077-00f45809bba0",
   "metadata": {},
   "outputs": [
    {
     "ename": "NameError",
     "evalue": "name 'npm' is not defined",
     "output_type": "error",
     "traceback": [
      "\u001b[0;31m---------------------------------------------------------------------------\u001b[0m",
      "\u001b[0;31mNameError\u001b[0m                                 Traceback (most recent call last)",
      "\u001b[0;32m/tmp/ipykernel_17557/1714602415.py\u001b[0m in \u001b[0;36m<module>\u001b[0;34m\u001b[0m\n\u001b[0;32m----> 1\u001b[0;31m \u001b[0mtype\u001b[0m\u001b[0;34m(\u001b[0m\u001b[0mnpm\u001b[0m\u001b[0;34m)\u001b[0m\u001b[0;34m\u001b[0m\u001b[0;34m\u001b[0m\u001b[0m\n\u001b[0m",
      "\u001b[0;31mNameError\u001b[0m: name 'npm' is not defined"
     ]
    }
   ],
   "source": [
    "type(npm)"
   ]
  },
  {
   "cell_type": "code",
   "execution_count": 8,
   "id": "6dcf4565-8eef-4dcc-bfe6-8afb3e6af014",
   "metadata": {},
   "outputs": [
    {
     "data": {
      "text/plain": [
       "str"
      ]
     },
     "execution_count": 8,
     "metadata": {},
     "output_type": "execute_result"
    }
   ],
   "source": [
    "a=1\n",
    "type(a)\n",
    "b='a'\n",
    "type(b)"
   ]
  },
  {
   "cell_type": "code",
   "execution_count": null,
   "id": "0eb6d262-f9a8-43d7-aca7-6fedd670b7b9",
   "metadata": {},
   "outputs": [],
   "source": [
    "hperkalian = 3 ∗ 2\n",
    "𝑦 = 2^3\n",
    "𝑦 = 6 : 2\n",
    "𝑦 = 12 + 6 : 2^3\n",
    "𝑦 = 5 + 10 ∗ 2\n",
    "𝑦 = 6 : 3 ∗ 2\n"
   ]
  },
  {
   "cell_type": "code",
   "execution_count": 9,
   "id": "c87401df-a46d-4876-b9bb-d0873ddf5f1b",
   "metadata": {},
   "outputs": [
    {
     "name": "stdin",
     "output_type": "stream",
     "text": [
      "input a= 3\n",
      "input b= 4\n",
      "input c= 2\n"
     ]
    },
    {
     "name": "stdout",
     "output_type": "stream",
     "text": [
      "0.6457513110645907\n"
     ]
    }
   ],
   "source": [
    "a=int(input(\"input a=\"))\n",
    "b=int(input(\"input b=\"))\n",
    "c=int(input(\"input c=\"))\n",
    "output=((a+b)**(1/2)-c)\n",
    "print(output)"
   ]
  },
  {
   "cell_type": "code",
   "execution_count": 13,
   "id": "d610a155-0eb5-45f6-b49a-6a26fbf39996",
   "metadata": {},
   "outputs": [
    {
     "name": "stdout",
     "output_type": "stream",
     "text": [
      "24\n"
     ]
    }
   ],
   "source": [
    "a=4\n",
    "print(3*2**3)"
   ]
  },
  {
   "cell_type": "code",
   "execution_count": 16,
   "id": "dd91f2bf-5bdd-4677-a7cd-f8279acc395b",
   "metadata": {},
   "outputs": [
    {
     "name": "stdin",
     "output_type": "stream",
     "text": [
      "Masukkan bilangan= 2\n"
     ]
    },
    {
     "data": {
      "text/plain": [
       "str"
      ]
     },
     "execution_count": 16,
     "metadata": {},
     "output_type": "execute_result"
    }
   ],
   "source": [
    "a=input('Masukkan bilangan=')\n",
    "type(a)\n"
   ]
  },
  {
   "cell_type": "code",
   "execution_count": 19,
   "id": "52fd465e-a769-4257-aa61-95ce9d7c652f",
   "metadata": {},
   "outputs": [
    {
     "name": "stdout",
     "output_type": "stream",
     "text": [
      "8.0\n"
     ]
    }
   ],
   "source": [
    "akar = 64**(1/2.0)\n",
    "print(akar)"
   ]
  },
  {
   "cell_type": "code",
   "execution_count": 30,
   "id": "ea0ace13-50fc-40d8-9456-746fc37d19a2",
   "metadata": {},
   "outputs": [
    {
     "name": "stdout",
     "output_type": "stream",
     "text": [
      "1\n"
     ]
    },
    {
     "data": {
      "text/plain": [
       "int"
      ]
     },
     "execution_count": 30,
     "metadata": {},
     "output_type": "execute_result"
    }
   ],
   "source": [
    "a=4 // 3 \n",
    "print(a)\n",
    "type(a)"
   ]
  },
  {
   "cell_type": "code",
   "execution_count": null,
   "id": "c7caa0b5-a451-4b56-a3f4-4288d645f645",
   "metadata": {},
   "outputs": [],
   "source": []
  }
 ],
 "metadata": {
  "kernelspec": {
   "display_name": "alpro-env",
   "language": "python",
   "name": "alpro-env"
  },
  "language_info": {
   "codemirror_mode": {
    "name": "ipython",
    "version": 3
   },
   "file_extension": ".py",
   "mimetype": "text/x-python",
   "name": "python",
   "nbconvert_exporter": "python",
   "pygments_lexer": "ipython3",
   "version": "3.7.3"
  }
 },
 "nbformat": 4,
 "nbformat_minor": 5
}
