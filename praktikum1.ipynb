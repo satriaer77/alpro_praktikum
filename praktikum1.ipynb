{
 "cells": [
  {
   "cell_type": "markdown",
   "id": "f20bf86d-bc30-40cb-98ca-8a9ef870f930",
   "metadata": {},
   "source": [
    "PRAKTIKUM 1 Bilangan Ganjil"
   ]
  },
  {
   "cell_type": "code",
   "execution_count": 2,
   "id": "1a2c9ad1-49e8-4bff-bcb6-250d68534674",
   "metadata": {},
   "outputs": [
    {
     "name": "stdin",
     "output_type": "stream",
     "text": [
      "Masukkan Jumlah Angka :  g\n"
     ]
    },
    {
     "name": "stdout",
     "output_type": "stream",
     "text": [
      "Yang anda masukkan bukan angka,Coba Lagi\n"
     ]
    },
    {
     "name": "stdin",
     "output_type": "stream",
     "text": [
      "Masukkan Jumlah Angka :  g\n"
     ]
    },
    {
     "name": "stdout",
     "output_type": "stream",
     "text": [
      "Yang anda masukkan bukan angka,Coba Lagi\n"
     ]
    },
    {
     "name": "stdin",
     "output_type": "stream",
     "text": [
      "Masukkan Jumlah Angka :  g\n"
     ]
    },
    {
     "name": "stdout",
     "output_type": "stream",
     "text": [
      "Terjadi Kesalahan harap jalankan kembali\n"
     ]
    }
   ],
   "source": [
    "#Import library\n",
    "import colorama\n",
    "from colorama import Fore, Style\n",
    "\n",
    "\n",
    "\n",
    "error = 0 #digunakan untuk menghitung kesalahan exception\n",
    "\n",
    "\n",
    "#Fungsi untuk mencetak bilangan ganjil ambil dari inputan jumlahAngka\n",
    "def printAngkaGanjil(angka) :\n",
    "    jumlah = 0\n",
    "    print(\"o-----------o\")\n",
    "    for i in range(angka) :\n",
    "        if i % 2 != 0 :\n",
    "            print(\"| Angka \",i,\" |\")\n",
    "            jumlah = jumlah + i\n",
    "   \n",
    "        if i == (angka-1) :\n",
    "            print(\"o-----------o\")\n",
    "            print(Fore.LIGHTRED_EX +\"Jumlah Keseluruhan Angka Ganjil : \",jumlah)\n",
    "            print(Style.RESET_ALL)\n",
    "            cont = str(input(\"Anda ingin mengulang lagi ya/tidak : \"))\n",
    "            if cont == \"ya\" :\n",
    "                return 1\n",
    "            else :\n",
    "                return 0\n",
    "#End Fungsi printAngkaGanjil        \n",
    "        \n",
    "    \n",
    "    \n",
    "#Jalankan     \n",
    "while True :\n",
    "    try :\n",
    "        jumlahAngka    = int(input(\"Masukkan Jumlah Angka : \"))\n",
    "        if printAngkaGanjil(jumlahAngka) == 1 :\n",
    "            continue\n",
    "        else :\n",
    "            break\n",
    "                \n",
    "                   \n",
    "    except :\n",
    "        error = error + 1\n",
    "        if error >= 3 : \n",
    "            print(\"Terjadi Kesalahan harap jalankan kembali\")\n",
    "            break\n",
    "        else :\n",
    "            print(\"Yang anda masukkan bukan angka,Coba Lagi\")\n",
    "    \n",
    "\n",
    "\n",
    "\n"
   ]
  },
  {
   "cell_type": "code",
   "execution_count": null,
   "id": "9a44fb0a-1bac-4be7-a44e-d0262bf0b572",
   "metadata": {},
   "outputs": [],
   "source": []
  }
 ],
 "metadata": {
  "kernelspec": {
   "display_name": "alpro-env",
   "language": "python",
   "name": "alpro-env"
  },
  "language_info": {
   "codemirror_mode": {
    "name": "ipython",
    "version": 3
   },
   "file_extension": ".py",
   "mimetype": "text/x-python",
   "name": "python",
   "nbconvert_exporter": "python",
   "pygments_lexer": "ipython3",
   "version": "3.7.3"
  }
 },
 "nbformat": 4,
 "nbformat_minor": 5
}
