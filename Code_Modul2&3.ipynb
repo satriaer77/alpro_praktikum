{
 "cells": [
  {
   "cell_type": "markdown",
   "id": "59ac26b6",
   "metadata": {},
   "source": [
    "# MODUL 3"
   ]
  },
  {
   "cell_type": "markdown",
   "id": "34ce95cb",
   "metadata": {},
   "source": [
    "### String 2.1"
   ]
  },
  {
   "cell_type": "code",
   "execution_count": 2,
   "id": "ac7e22c9",
   "metadata": {},
   "outputs": [
    {
     "name": "stdout",
     "output_type": "stream",
     "text": [
      "masukkan kalimat : Google\n",
      "masukkan huruf yang dicari : o\n",
      "huruf  o  atau huruf  O  ke-  1  : offset-  1\n",
      "huruf  o  atau huruf  O  ke-  2  : offset-  2\n"
     ]
    }
   ],
   "source": [
    "data = input('masukkan kalimat = ') \n",
    "huruf = input('masukkan huruf yang dicari = ')  #digunakan untuk menginputkan huruf yang akan dicari\n",
    "no = 1 #Digunakan untuk mencetak urutan huruf yang di cari ke- no\n",
    "\n",
    "for i in range(len(data)) :\n",
    "    if huruf == data[i].lower() : #digunakan untuk mencari huruf dari string data dengan cara membandingkan kedua huruf tersebut dan untu .lower() digunakan untuk membuat sebuah huruf menjadi kecil contoh S menjadi s\n",
    "        print('huruf ',huruf.lower(),' atau huruf ',huruf.upper(),' ke- ',no,' : offset- ',i)\n",
    "        no+=1 #digunakan untuk menambah nomor bila huruf yang dicari ditemukan\n",
    "        "
   ]
  },
  {
   "cell_type": "markdown",
   "id": "3a1224c2",
   "metadata": {},
   "source": [
    "### String 2.2"
   ]
  },
  {
   "cell_type": "code",
   "execution_count": 6,
   "id": "35c6d181",
   "metadata": {},
   "outputs": [
    {
     "name": "stdout",
     "output_type": "stream",
     "text": [
      "Menu\n",
      "Tekan 1 untuk konversi Desimal ke Biner\n",
      "Tekan 2 untuk konversi Biner ke Desimal\n",
      "masukkan pilihan anda = 2\n",
      "Masukkan Biner = 10001\n",
      "Bilangan desimal =  17\n",
      "Ingin mengulang operasi kembali (y/t)y\n",
      "===================================================\n",
      "Menu\n",
      "Tekan 1 untuk konversi Desimal ke Biner\n",
      "Tekan 2 untuk konversi Biner ke Desimal\n",
      "masukkan pilihan anda = 2\n",
      "Masukkan Biner = 100\n",
      "Bilangan desimal =  4\n",
      "Ingin mengulang operasi kembali (y/t)y\n",
      "===================================================\n",
      "Menu\n",
      "Tekan 1 untuk konversi Desimal ke Biner\n",
      "Tekan 2 untuk konversi Biner ke Desimal\n",
      "masukkan pilihan anda = 1\n",
      "masukkan Desimal = 4\n",
      "Bilangan desimal =  100\n",
      "Ingin mengulang operasi kembali (y/t)t\n",
      "===================================================\n"
     ]
    }
   ],
   "source": [
    "stop=False #Digunakan untuk variabel stop di while\n",
    "\n",
    "while not(stop) :\n",
    "    print('Menu')\n",
    "    print('Tekan 1 untuk konversi Desimal ke Biner')\n",
    "    print('Tekan 2 untuk konversi Biner ke Desimal')\n",
    "    pilihan=int(input('masukkan pilihan anda = ')) #digunakan untuk menyimpan pilihan menu dari user\n",
    "    \n",
    "    if pilihan == 1 : #jika user memilih 1 maka kode di dalam if akan dijalankan\n",
    "        stopMenu=False #digunakan untuk stop variable di while\n",
    "        biner='' #digunakan sebagai variable untuk menampung hasil dari biner\n",
    "        desimal=int(input('masukkan Desimal = '))\n",
    "        div=desimal#membuat variable baru bernama div dengan nilai sama dengan desimal, dan digunakan untuk menyimpan hasil diviso\n",
    "        while not(stopMenu) : #not digunakan untuk membuat hasi menjadi berlawanan contoh True menjadi False atau sebaliknya\n",
    "            modulus=div%2#digunakan untuk menentukan menyimpan hasil dari modulus bilangan hasilnya 1 atau o\n",
    "            div=div//2 #digunakan untk menyimpan hasil dari division 2 dari variabel div yang didefinisikan\n",
    "            biner=str(modulus)+biner#digunakan untuk concatination string di variable biner dan hasil dari modulus\n",
    "            if div == 0 : #jika variabel div bernilai 0 maka kode didalamnya akan dijalankan\n",
    "                stopMenu=True#membuat stopMenu menjadi menjadi True agar while berhenti karena menjadi nilainya menjadi False karena menggunakan not\n",
    "        print('Bilangan desimal = ',biner)\n",
    "    elif pilihan == 2 :#jika user memilih 2 maka kode di dalam elif akan dijalankan\n",
    "        bildesimal=0#digunakan sebagai variabel untuk menyimpan nilai dari hasil perpangkatan biner\n",
    "        bilbiner=input('Masukkan Biner = ')\n",
    "        pangkat=len(bilbiner)-1 #menentukan pangkat tertinggi dan digunakan untuk perpangkatan pada bilangan biner\n",
    "        for i in range(len(bilbiner)) : #menggunakan for dan untuk rangenya menggunakan panjang dari variable bilbiner\n",
    "            bindes=int(bilbiner[i])*2**pangkat #rumus konversi bilangan biner, menggunakan indek i dari bilbiner\n",
    "            bildesimal=bildesimal+bindes #menyimpan hasi dari bindes dan ditambah dengan hasil sebelumnya\n",
    "            pangkat-=1 #mengurangi pangkat\n",
    "        print('Bilangan desimal = ',bildesimal) #print hasil konversi bilangan desimal\n",
    "    lanjutkan=input('Ingin mengulang operasi kembali (y/t)')\n",
    "    if lanjutkan == 't' : #bila user mengetikkan t maka kode didalam if akan dijalankan\n",
    "        stop=True # membuat kondisi di while menjadi False agar berhenti perulangannya\n",
    "    print('===================================================')"
   ]
  },
  {
   "cell_type": "markdown",
   "id": "beb025fb",
   "metadata": {},
   "source": [
    "# MODUL 2"
   ]
  },
  {
   "cell_type": "markdown",
   "id": "acf98daa",
   "metadata": {},
   "source": [
    "### Iterasi 2.2"
   ]
  },
  {
   "cell_type": "code",
   "execution_count": 9,
   "id": "d7dd6e36",
   "metadata": {},
   "outputs": [
    {
     "name": "stdout",
     "output_type": "stream",
     "text": [
      "masukkan jumlah bab = 3\n",
      "Masukkan jumlah sub bab di setiap bab = 2\n",
      "1  .\n",
      "  1  .  1\n",
      "  1  .  2\n",
      "2  .\n",
      "  2  .  1\n",
      "  2  .  2\n",
      "3  .\n",
      "  3  .  1\n",
      "  3  .  2\n"
     ]
    }
   ],
   "source": [
    "jmlbab=int(input('masukkan jumlah bab = '))\n",
    "subab=int(input('Masukkan jumlah sub bab di setiap bab = '))\n",
    "\n",
    "for i in range (1,jmlbab+1) :\n",
    "    print(i,' .')\n",
    "    for s in range(1,subab+1) :\n",
    "        print(' ',i,' . ',s)"
   ]
  },
  {
   "cell_type": "markdown",
   "id": "a91ed8b8",
   "metadata": {},
   "source": [
    "### Iterasi 2.3"
   ]
  },
  {
   "cell_type": "code",
   "execution_count": 13,
   "id": "a07d3669",
   "metadata": {},
   "outputs": [
    {
     "name": "stdout",
     "output_type": "stream",
     "text": [
      "Menu\n",
      "Tekan 1 untuk operasi perhitungan luas lingkaran (input adalah jari-jari)\n",
      "Tekan 2 untuk operasi perhitungan luas persegi panjang (input adalah panjang dan lebar)\n",
      "Tekan 3 untuk operasi perhitungan luas segitiga (input adalah alas dan tinggi)\n",
      "masukkan pilihan anda = 3\n",
      "masukkan alas = 3\n",
      "masukkan tinggi = 4\n",
      "Luas segitiga =  6.0\n",
      "Ingin mengulang operasi kembali y/tt\n"
     ]
    }
   ],
   "source": [
    "stop=False\n",
    "while not(stop) :\n",
    "    print('Menu')\n",
    "    print('Tekan 1 untuk operasi perhitungan luas lingkaran (input adalah jari-jari)')\n",
    "    print('Tekan 2 untuk operasi perhitungan luas persegi panjang (input adalah panjang dan lebar)')\n",
    "    print('Tekan 3 untuk operasi perhitungan luas segitiga (input adalah alas dan tinggi)')\n",
    "    pilihan=int(input('masukkan pilihan anda = '))\n",
    "    if pilihan == 1 :\n",
    "        jarijari=float(input('masukkan jari-jari = '))\n",
    "        luaslingkaran=3.14*jarijari**2\n",
    "        print('Luas lingkaran = ',luaslingkaran)\n",
    "    elif pilihan == 2 :\n",
    "        panjang=float(input('masukkan panjang = '))\n",
    "        lebar=float(input('masukkan lebar = '))\n",
    "        luaspersegipanjang=panjang*lebar\n",
    "        print('Luas persegi panjang = ',luaspersegipanjang)\n",
    "    elif pilihan == 3 :\n",
    "        alas=float(input('masukkan alas = '))\n",
    "        tinggi=float(input('masukkan tinggi = '))\n",
    "        luassegitiga=(alas*tinggi)/2\n",
    "        print('Luas segitiga = ',luassegitiga)\n",
    "    lanjutkan=input('Ingin mengulang operasi kembali y/t')\n",
    "    if lanjutkan == 't' :\n",
    "        stop=True"
   ]
  },
  {
   "cell_type": "code",
   "execution_count": null,
   "id": "f12ad9d9",
   "metadata": {},
   "outputs": [],
   "source": []
  }
 ],
 "metadata": {
  "kernelspec": {
   "display_name": "alpro-env",
   "language": "python",
   "name": "alpro-env"
  },
  "language_info": {
   "codemirror_mode": {
    "name": "ipython",
    "version": 3
   },
   "file_extension": ".py",
   "mimetype": "text/x-python",
   "name": "python",
   "nbconvert_exporter": "python",
   "pygments_lexer": "ipython3",
   "version": "3.7.3"
  }
 },
 "nbformat": 4,
 "nbformat_minor": 5
}
