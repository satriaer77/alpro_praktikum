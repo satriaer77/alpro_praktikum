{
 "cells": [
  {
   "cell_type": "code",
   "execution_count": null,
   "id": "694fc1ff",
   "metadata": {},
   "outputs": [],
   "source": [
    "def formula() :\n",
    "    f = ((x-1)+x) * ((x))"
   ]
  },
  {
   "cell_type": "code",
   "execution_count": 33,
   "id": "4c24560e",
   "metadata": {},
   "outputs": [
    {
     "name": "stdout",
     "output_type": "stream",
     "text": [
      "2D :  [[1, 3, 5], [7, 0, 2]]\n",
      "1D :  [1, 3, 5, 7, 0, 2]\n"
     ]
    }
   ],
   "source": [
    "def create1D(ls) :\n",
    "    lsh = []\n",
    "    for baris in ls :\n",
    "        for kolom in baris :\n",
    "            lsh.append(kolom)\n",
    "    return lsh\n",
    "\n",
    "ls2=[[1,3,5],[7,0,2]]\n",
    "\n",
    "print(\"2D : \",ls2)\n",
    "print(\"1D : \",create1D(ls2))\n"
   ]
  }
 ],
 "metadata": {
  "kernelspec": {
   "display_name": "Python 3 (ipykernel)",
   "language": "python",
   "name": "python3"
  },
  "language_info": {
   "codemirror_mode": {
    "name": "ipython",
    "version": 3
   },
   "file_extension": ".py",
   "mimetype": "text/x-python",
   "name": "python",
   "nbconvert_exporter": "python",
   "pygments_lexer": "ipython3",
   "version": "3.7.3"
  }
 },
 "nbformat": 4,
 "nbformat_minor": 5
}
