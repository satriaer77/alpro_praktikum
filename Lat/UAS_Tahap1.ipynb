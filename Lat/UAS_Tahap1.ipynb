{
 "cells": [
  {
   "cell_type": "code",
   "execution_count": 9,
   "id": "dac85a2f",
   "metadata": {},
   "outputs": [
    {
     "name": "stdout",
     "output_type": "stream",
     "text": [
      "uaaa\n"
     ]
    }
   ],
   "source": [
    "def kataBaru(s):\n",
    "    a=\"\"\n",
    "    for i in range(len(s)) :\n",
    "        if i%2 != 0 :\n",
    "            a+=s[i]\n",
    "    return a\n",
    "print(kataBaru(\"Surabaya\"))"
   ]
  }
 ],
 "metadata": {
  "kernelspec": {
   "display_name": "alpro-env",
   "language": "python",
   "name": "alpro-env"
  },
  "language_info": {
   "codemirror_mode": {
    "name": "ipython",
    "version": 3
   },
   "file_extension": ".py",
   "mimetype": "text/x-python",
   "name": "python",
   "nbconvert_exporter": "python",
   "pygments_lexer": "ipython3",
   "version": "3.7.3"
  }
 },
 "nbformat": 4,
 "nbformat_minor": 5
}
