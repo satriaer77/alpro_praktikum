{
 "cells": [
  {
   "cell_type": "code",
   "execution_count": 67,
   "id": "789cbae5",
   "metadata": {},
   "outputs": [
    {
     "name": "stdout",
     "output_type": "stream",
     "text": [
      "1   2   3   \n",
      "4   5   6   \n",
      "\n",
      "\n",
      "\n",
      "1   2   \n",
      "3   4   \n",
      "5   6   \n",
      "\n"
     ]
    }
   ],
   "source": [
    "def dispMat(mat) :\n",
    "    i=0\n",
    "    stm =\"\"\n",
    "    for baris in mat :\n",
    "        for kolom in baris :\n",
    "            stm+=str(kolom)+\"   \"\n",
    "            \n",
    "            if i == len(baris)-1 :\n",
    "                stm+=\"\\n\"\n",
    "                i=-1\n",
    "            i+=1\n",
    "            \n",
    "    return stm\n",
    "\n",
    "def revMat(mt) :\n",
    "    hs=[]\n",
    "    tmphasil=[]\n",
    "    hasil=[]\n",
    "    bar = len(mt)\n",
    "    klm = len(mt[0])\n",
    "    for baris in mt :\n",
    "        for kolom in baris :\n",
    "            hs.append(kolom)\n",
    "    a=0\n",
    "    for i in range(len(hs)) :\n",
    "        tmphasil.append(hs[i])\n",
    "        if a == bar-1 :\n",
    "            a=-1\n",
    "            hasil.append(tmphasil)\n",
    "            tmphasil = []\n",
    "        a+=1\n",
    "    return hasil\n",
    "        \n",
    "\n",
    "mt=[[1,2,3],[4,5,6]]\n",
    "\n",
    "print(dispMat(mt))\n",
    "print(\"\\n\")\n",
    "print(dispMat(revMat(mt)))"
   ]
  },
  {
   "cell_type": "code",
   "execution_count": 7,
   "id": "59c43b34",
   "metadata": {},
   "outputs": [
    {
     "name": "stdout",
     "output_type": "stream",
     "text": [
      "1   2   \n",
      "3   4   \n",
      "5   6   \n",
      "\n",
      "\n",
      "\n",
      "[[3, 5], [4, 6]]\n",
      "3   5   \n",
      "4   6   \n",
      "\n"
     ]
    }
   ],
   "source": [
    "def dispMat(mat) :\n",
    "    i=0\n",
    "    stm =\"\"\n",
    "    for baris in mat :\n",
    "        for kolom in baris :\n",
    "            stm+=str(kolom)+\"   \"\n",
    "            \n",
    "            if i == len(baris)-1 :\n",
    "                stm+=\"\\n\"\n",
    "                i=-1\n",
    "            i+=1\n",
    "            \n",
    "    return stm\n",
    "\n",
    "def revMat(mt) :\n",
    "    hs=[]\n",
    "    for i in range(len(mt)) :\n",
    "        for j in range(len(mt[0])) :\n",
    "            if i == len(mt)-1 :\n",
    "                i-=1\n",
    "                hs.append([mt[i][j],mt[i+1][j]])\n",
    "                i+=1\n",
    "    print(hs)            \n",
    "           # else :\n",
    "           #     hs.append([mt[i][j],mt[i+1][j]])\n",
    "           \n",
    "    return hs           \n",
    "            \n",
    "            \n",
    "    \n",
    "\n",
    "mt= [[1,2],[3,4],[5,6]]#[[1,2,3],[4,5,6]]\n",
    "\n",
    "#print(revMat(mt))\n",
    "print(dispMat(mt))\n",
    "print(\"\\n\")\n",
    "print(dispMat(revMat(mt)))"
   ]
  },
  {
   "cell_type": "code",
   "execution_count": 2,
   "id": "3c8a9d51",
   "metadata": {},
   "outputs": [
    {
     "name": "stdout",
     "output_type": "stream",
     "text": [
      "[[1, 4], [2, 5], [3, 6]]\n"
     ]
    },
    {
     "ename": "NameError",
     "evalue": "name 'dispMat' is not defined",
     "output_type": "error",
     "traceback": [
      "\u001b[0;31m---------------------------------------------------------------------------\u001b[0m",
      "\u001b[0;31mNameError\u001b[0m                                 Traceback (most recent call last)",
      "\u001b[0;32m/tmp/ipykernel_9160/2027866105.py\u001b[0m in \u001b[0;36m<module>\u001b[0;34m\u001b[0m\n\u001b[1;32m     20\u001b[0m \u001b[0mprint\u001b[0m\u001b[0;34m(\u001b[0m\u001b[0mreveMat\u001b[0m\u001b[0;34m(\u001b[0m\u001b[0mmat\u001b[0m\u001b[0;34m)\u001b[0m\u001b[0;34m)\u001b[0m\u001b[0;34m\u001b[0m\u001b[0;34m\u001b[0m\u001b[0m\n\u001b[1;32m     21\u001b[0m \u001b[0;34m\u001b[0m\u001b[0m\n\u001b[0;32m---> 22\u001b[0;31m \u001b[0mprint\u001b[0m\u001b[0;34m(\u001b[0m\u001b[0mdispMat\u001b[0m\u001b[0;34m(\u001b[0m\u001b[0mmt\u001b[0m\u001b[0;34m)\u001b[0m\u001b[0;34m)\u001b[0m\u001b[0;34m\u001b[0m\u001b[0;34m\u001b[0m\u001b[0m\n\u001b[0m\u001b[1;32m     23\u001b[0m \u001b[0mprint\u001b[0m\u001b[0;34m(\u001b[0m\u001b[0;34m\"\\n\"\u001b[0m\u001b[0;34m)\u001b[0m\u001b[0;34m\u001b[0m\u001b[0;34m\u001b[0m\u001b[0m\n\u001b[1;32m     24\u001b[0m \u001b[0mprint\u001b[0m\u001b[0;34m(\u001b[0m\u001b[0mdispMat\u001b[0m\u001b[0;34m(\u001b[0m\u001b[0mreveMat\u001b[0m\u001b[0;34m(\u001b[0m\u001b[0mmat\u001b[0m\u001b[0;34m)\u001b[0m\u001b[0;34m)\u001b[0m\u001b[0;34m)\u001b[0m\u001b[0;34m\u001b[0m\u001b[0;34m\u001b[0m\u001b[0m\n",
      "\u001b[0;31mNameError\u001b[0m: name 'dispMat' is not defined"
     ]
    }
   ],
   "source": [
    "\n",
    "\n",
    "mat= [[1,2,3],[4,5,6]]\n",
    "\n",
    "def dispMat(mat) :\n",
    "    i=0\n",
    "    stm =\"\"\n",
    "    for baris in mat :\n",
    "        for kolom in baris :\n",
    "            stm+=str(kolom)+\"   \"\n",
    "            \n",
    "            if i == len(baris)-1 :\n",
    "                stm+=\"\\n\"\n",
    "                i=-1\n",
    "            i+=1\n",
    "            \n",
    "    return stm\n",
    "def reveMat(mt) :\n",
    "    pjgBaris = len(mt)\n",
    "    pjgKolom = len(mt[0])\n",
    "    \n",
    "    has = []\n",
    "    for i in range(pjgKolom) :\n",
    "        tmpHas = []\n",
    "        for j in range(pjgBaris) :\n",
    "            tmpHas.append(0)\n",
    "        has.append(tmpHas)\n",
    "    \n",
    "    for i in range(len(has)) :\n",
    "        for j in range(len(has[0])) :\n",
    "            has[i][j] = mat[j][i]\n",
    "    return has\n",
    "\n",
    "print(reveMat(mat))\n",
    "    \n",
    "print(dispMat(mt))\n",
    "print(\"\\n\")\n",
    "print(dispMat(reveMat(mat)))        "
   ]
  },
  {
   "cell_type": "code",
   "execution_count": null,
   "id": "209c6acf",
   "metadata": {},
   "outputs": [],
   "source": []
  }
 ],
 "metadata": {
  "kernelspec": {
   "display_name": "Python 3 (ipykernel)",
   "language": "python",
   "name": "python3"
  },
  "language_info": {
   "codemirror_mode": {
    "name": "ipython",
    "version": 3
   },
   "file_extension": ".py",
   "mimetype": "text/x-python",
   "name": "python",
   "nbconvert_exporter": "python",
   "pygments_lexer": "ipython3",
   "version": "3.7.3"
  }
 },
 "nbformat": 4,
 "nbformat_minor": 5
}
