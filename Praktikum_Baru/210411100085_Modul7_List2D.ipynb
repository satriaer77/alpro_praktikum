{
 "cells": [
  {
   "cell_type": "markdown",
   "id": "13f29de8",
   "metadata": {},
   "source": [
    "# **List 2 Dimensi**\n",
    "\n",
    "Tulis ringkasan atau penjelasan hal-hal berikut, dengan kata-kata kalian sendiri :\n",
    "\n",
    "1. Jelaskan mengenai List 2D, Perbedaannya dengan List 1D\n",
    "\n",
    "2. Berikan contoh data yang menggunakan representasi List2D\n"
   ]
  },
  {
   "cell_type": "markdown",
   "id": "870b4970",
   "metadata": {},
   "source": [
    "**1. Jelaskan mengenai List 2D, Perbedaannya dengan List 1D**"
   ]
  },
  {
   "cell_type": "markdown",
   "id": "50f23e54",
   "metadata": {},
   "source": [
    "List 2D merupakan list yang mempunyai elemen list, illustrasinya seperti ini :\n",
    "\n",
    "| 2 3 4 1 8 | \\ \n",
    "| 3 4 6 1 4 |  ---- Ini merupakan list 2D karena mempunyai baris dan kolom\n",
    "| 3 4 5 8 3 | /\n",
    "\n",
    "Dalam implementasinya di bahasa pemrograman python list 2D direprentasikan list yang mempunyai elemen list, contohnya seperti ini :\n",
    "\n",
    "~~~python\n",
    "listMahasiswa = [[\"Alexandra\", \"Joshua\", \"Steve\"],[86,96,75]] \n",
    "#atau Juga bisa seperti ini\n",
    "listMahasiswa2= [\n",
    "    \n",
    "[\"Alexandra\", \"Joshua\", \"Steve\"],\n",
    "[86,96,75]\n",
    "\n",
    "]\n",
    "\n",
    "print(\"\"\"\n",
    "Nama Mahasiswa  : %s\n",
    "Nilai Mahasiswa : %s\n",
    "\"\"\" % (listMahasiswa[0],listMahasiswa[1]) )\n",
    "\n",
    "~~~\n",
    "\n",
    "Perbedaan antara list 2D dan list 1D dapat terlihat dalam ilustrasi \n",
    "| 1 2 3 4 5 | ini adalah list 1 dimensi\n",
    "\n",
    "\n",
    "\n"
   ]
  },
  {
   "cell_type": "markdown",
   "id": "529ca5b6",
   "metadata": {},
   "source": [
    "**2. Berikan contoh data yang menggunakan representasi List2D**"
   ]
  },
  {
   "cell_type": "markdown",
   "id": "721b0504",
   "metadata": {},
   "source": [
    "Untuk menyusun data agar dapat dilihat dan diproses dengan mudah kita perlu memvisualisasikan"
   ]
  },
  {
   "cell_type": "markdown",
   "id": "aff0e35b",
   "metadata": {},
   "source": [
    "# **Implementasi-Modul Matriks**\n",
    "\n",
    "Buatlah modul matriks yang berisi proses pembuatan dan pengolahan data list 2D, sebagai berikut"
   ]
  },
  {
   "cell_type": "markdown",
   "id": "651511fa",
   "metadata": {},
   "source": [
    "## **Create Matrix 2D**\n",
    "\n",
    "Buatlah fungsi create Matrix2D untuk membuat suatu matriks 2D dengan representasi list 2D (dengan argument atau parameter adalah jumlah baris dan jumlah kolom)\n"
   ]
  },
  {
   "cell_type": "code",
   "execution_count": 6,
   "id": "5475da6d",
   "metadata": {},
   "outputs": [
    {
     "name": "stdout",
     "output_type": "stream",
     "text": [
      "==> Mat[0,0] : 1\n",
      "==> Mat[0,1] : 2\n",
      "==> Mat[0,2] : 3\n",
      "==> Mat[1,0] : 4\n",
      "==> Mat[1,1] : 5\n",
      "==> Mat[1,2] : 6\n",
      "==> Mat[0,0] : 7\n",
      "==> Mat[0,1] : 8\n",
      "==> Mat[0,2] : 9\n",
      "==> Mat[1,0] : 10\n",
      "==> Mat[1,1] : 11\n",
      "==> Mat[1,2] : 12\n",
      "==> Mat[0,0] : 13\n",
      "==> Mat[0,1] : 14\n",
      "==> Mat[0,2] : 15\n",
      "==> Mat[0,3] : 16\n",
      "==> Mat[1,0] : 17\n",
      "==> Mat[1,1] : 18\n",
      "==> Mat[1,2] : 19\n",
      "==> Mat[1,3] : 20\n",
      "==> Mat[2,0] : 21\n",
      "==> Mat[2,1] : 22\n",
      "==> Mat[2,2] : 23\n",
      "==> Mat[2,3] : 24\n",
      "==> Mat[0,0] : 25\n",
      "==> Mat[1,0] : 26\n",
      "==> Mat[2,0] : 27\n"
     ]
    }
   ],
   "source": [
    "from Module import matrix\n",
    "\"\"\"\n",
    "def createMatrix2D(baris,kolom) :\n",
    "    matrix = []\n",
    "    for i in range(baris) :\n",
    "        bar = []\n",
    "        for j in range(kolom) :\n",
    "            bar.append(int(input(\"==> Mat[%d,%d] : \" % (i,j) )))\n",
    "            \n",
    "        matrix.append(bar)\n",
    "\n",
    "    return matrix\n",
    "\"\"\"    \n",
    "    \n",
    "mat1 = matrix.createMatrix2D(2,3)\n",
    "mat2 = matrix.createMatrix2D(2,3)\n",
    "mat3 = matrix.createMatrix2D(3,4)\n",
    "mat4 = matrix.createMatrix2D(3,1)"
   ]
  },
  {
   "cell_type": "markdown",
   "id": "2391672d",
   "metadata": {},
   "source": [
    "## **Display Matrix**\n",
    "\n",
    "Buatlah fungsi display Matrix2D untuk menampilkan suatu matriks 2D (dengan argument atau parameter adalah matriks yang akan ditampilkan)"
   ]
  },
  {
   "cell_type": "code",
   "execution_count": 8,
   "id": "04489f10",
   "metadata": {},
   "outputs": [
    {
     "name": "stdout",
     "output_type": "stream",
     "text": [
      "1 \n",
      "\n",
      "2 \n",
      "\n",
      "2 \n",
      "\n",
      "2 \n",
      "\n",
      "\n",
      "\n",
      "Matrix1 : \n",
      "|   1    2    3   |\n",
      "|   4    5    6   |\n",
      "\n",
      "\n",
      "Matrix2 :\n",
      "|    7     8     9   |\n",
      "|   10    11    12   |\n",
      "\n",
      "\n",
      "Matrix3 :\n",
      "|   13    14    15    16   |\n",
      "|   17    18    19    20   |\n",
      "|   21    22    23    24   |\n",
      "\n",
      "\n",
      "Matrix4 :\n",
      "|   25   |\n",
      "|   26   |\n",
      "|   27   |\n",
      "\n",
      "\n",
      "\n"
     ]
    }
   ],
   "source": [
    "\"\"\"\n",
    "\n",
    "def dispMatrix2D(listMatrix) :\n",
    "    strMatrix = \"\"\n",
    "    pjgMax    = 0\n",
    "    for i in range(len(listMatrix)) : \n",
    "        if pjgMax <= len(str(max(listMatrix[i]))) :              \n",
    "            pjgMax = len(str(max(listMatrix[i])))\n",
    "            \n",
    "    print(pjgMax,\"\\n\")\n",
    "    for baris in listMatrix :\n",
    "        \n",
    "        for kolom in baris :\n",
    "            if baris.index(kolom) == 0 :\n",
    "                strMatrix = strMatrix+\"| \"\n",
    "            \n",
    "            strMatrix = strMatrix+\"  %s%d  \" % (\" \"*(pjgMax-len(str(kolom))),kolom)   \n",
    "                \n",
    "            if baris.index(kolom) == len(baris)-1 :\n",
    "                strMatrix = strMatrix+\" |\\n\"\n",
    "                \n",
    "            \n",
    "    return strMatrix\n",
    "\n",
    "\"\"\"\n",
    "\n",
    "print(\"\"\"\n",
    "\n",
    "Matrix1 : \n",
    "%s\n",
    "\n",
    "Matrix2 :\n",
    "%s\n",
    "\n",
    "Matrix3 :\n",
    "%s\n",
    "\n",
    "Matrix4 :\n",
    "%s\n",
    "\n",
    "\"\"\"% (matrix.dispMatrix2D(mat1),matrix.dispMatrix2D(mat2),matrix.dispMatrix2D(mat3),matrix.dispMatrix2D(mat4) ) )"
   ]
  },
  {
   "cell_type": "markdown",
   "id": "6481e135",
   "metadata": {},
   "source": [
    "## **Square Matrix**\n",
    "\n",
    "Buatlah fungsi is square Matrix2D untuk mengecek apakah suatu matrix 2D adalah matriks square ? (dengan argument atau parameter adalah matriks yang akan dicek)"
   ]
  },
  {
   "cell_type": "code",
   "execution_count": 68,
   "id": "ffe89549",
   "metadata": {},
   "outputs": [
    {
     "name": "stdout",
     "output_type": "stream",
     "text": [
      "\n",
      "Matrix1 : is Square ? False\n",
      "Matrix2 : is Square ? False\n",
      "Matrix3 : is Square ? False\n",
      "Matrix4 : is Square ? False\n",
      "\n"
     ]
    }
   ],
   "source": [
    "\"\"\"\n",
    "def isSquare(listMatrix) : \n",
    "    square = True\n",
    "    \n",
    "    #for baris in listMatrix :\n",
    "     #   for kolom in baris :\n",
    "      #      if len(listMatrix) != len(baris) :\n",
    "       #         square = False\n",
    "    \n",
    "    if len(listMatrix) != len(listMatrix[0]) :\n",
    "        square = False\n",
    "    \n",
    "    return square\n",
    "\"\"\"\n",
    "\n",
    "print(\"\"\"\n",
    "Matrix1 : is Square ? %s\n",
    "Matrix2 : is Square ? %s\n",
    "Matrix3 : is Square ? %s\n",
    "Matrix4 : is Square ? %s\n",
    "\"\"\" %( matrix.isSquare(mat1),matrix.isSquare(mat2),matrix.isSquare(mat3),matrix.isSquare(mat4) ) ) "
   ]
  },
  {
   "cell_type": "markdown",
   "id": "9a501750",
   "metadata": {},
   "source": [
    "## **Penjumlahan Matriks**\n",
    "\n",
    "Buatlah fungsi Penjumlahan Matrix2D untuk menjumlahkan dua buah matriks (dengan argument atau parameter adalah matriks yang akan dijumlahkan). Di dalam fungsi tersebut dilakukan pengecekan apakah dua buah matriks dapat dijumlahkan"
   ]
  },
  {
   "cell_type": "code",
   "execution_count": 12,
   "id": "a0b4ce85",
   "metadata": {},
   "outputs": [
    {
     "name": "stdout",
     "output_type": "stream",
     "text": [
      "1 \n",
      "\n",
      "2 \n",
      "\n",
      "2 \n",
      "\n",
      "\n",
      "Matrix1+Matrix2 :\n",
      "\n",
      "|   1    2    3   |\n",
      "|   4    5    6   |\n",
      "\n",
      "+\n",
      "|    7     8     9   |\n",
      "|   10    11    12   |\n",
      "\n",
      "\n",
      "=\n",
      "\n",
      "|    8    10    12   |\n",
      "|   14    16    18   |\n",
      "\n",
      "\n"
     ]
    }
   ],
   "source": [
    "\n",
    "\"\"\"\n",
    "def addList(listMatrix1,listMatrix2) :\n",
    "    pjgBaris = len(listMatrix1) == len(listMatrix2)\n",
    "    pjgKolom = len(listMatrix1[0]) == len(listMatrix2[0])\n",
    "    \n",
    "    \n",
    "    if pjgBaris and pjgKolom :\n",
    "        hasil    = []\n",
    "        for i in range(len(listMatrix1)) :\n",
    "            tmpHasil = []\n",
    "            for j in range(len(listMatrix1[i])) :\n",
    "                tmpHasil.append(listMatrix1[i][j]+listMatrix2[i][j])\n",
    "                \n",
    "            hasil.append(tmpHasil)\n",
    "        return hasil\n",
    "    \n",
    "    else :\n",
    "        print(\"'Ordo matrix tidak sama'\")\n",
    "\"\"\"   \n",
    "    \n",
    "print(\"\"\"\n",
    "Matrix1+Matrix2 :\n",
    "\n",
    "%s\n",
    "+\n",
    "%s\n",
    "\n",
    "=\n",
    "\n",
    "%s\n",
    "\"\"\" % (\n",
    "        matrix.dispMatrix2D(mat1),\n",
    "        matrix.dispMatrix2D(mat2),\n",
    "        matrix.dispMatrix2D(matrix.addList(mat1,mat2)) \n",
    "    ) )\n"
   ]
  },
  {
   "cell_type": "code",
   "execution_count": null,
   "id": "db9c5cb2",
   "metadata": {},
   "outputs": [],
   "source": []
  }
 ],
 "metadata": {
  "kernelspec": {
   "display_name": "Python 3 (ipykernel)",
   "language": "python",
   "name": "python3"
  },
  "language_info": {
   "codemirror_mode": {
    "name": "ipython",
    "version": 3
   },
   "file_extension": ".py",
   "mimetype": "text/x-python",
   "name": "python",
   "nbconvert_exporter": "python",
   "pygments_lexer": "ipython3",
   "version": "3.7.3"
  }
 },
 "nbformat": 4,
 "nbformat_minor": 5
}
