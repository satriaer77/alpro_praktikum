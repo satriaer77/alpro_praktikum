{
 "cells": [
  {
   "cell_type": "markdown",
   "id": "a5924350",
   "metadata": {},
   "source": [
    "# **List 2 Dimensi**\n",
    "\n",
    "Tulis ringkasan atau penjelasan hal-hal berikut, dengan kata-kata kalian sendiri :\n",
    "\n",
    "1. Jelaskan mengenai List 2D, Perbedaannya dengan List 1D\n",
    "\n",
    "2. Berikan contoh data yang menggunakan representasi List2D\n"
   ]
  },
  {
   "cell_type": "markdown",
   "id": "1f5f27a0",
   "metadata": {},
   "source": [
    "**1. Jelaskan mengenai List 2D, Perbedaannya dengan List 1D**"
   ]
  },
  {
   "cell_type": "markdown",
   "id": "2290068d",
   "metadata": {},
   "source": [
    "List 2D merupakan list yang mempunyai elemen list, illustrasinya seperti ini :\n",
    "\n",
    "| 2 3 4 1 8 | \\ \n",
    "| 3 4 6 1 4 |  ---- Ini merupakan list 2D karena mempunyai baris dan kolom\n",
    "| 3 4 5 8 3 | /\n",
    "\n",
    "Dalam implementasinya di bahasa pemrograman python list 2D direprentasikan list yang mempunyai elemen list, contohnya seperti ini :\n",
    "\n",
    "~~~python\n",
    "listMahasiswa = [[\"Alexandra\", \"Joshua\", \"Steve\"],[86,96,75]] \n",
    "#atau Juga bisa seperti ini\n",
    "listMahasiswa2= [\n",
    "    \n",
    "[\"Alexandra\", \"Joshua\", \"Steve\"],\n",
    "[86,96,75]\n",
    "\n",
    "]\n",
    "\n",
    "print(\"\"\"\n",
    "Nama Mahasiswa  : %s\n",
    "Nilai Mahasiswa : %s\n",
    "\"\"\" % (listMahasiswa[0],listMahasiswa[1]) )\n",
    "\n",
    "~~~\n",
    "\n",
    "Perbedaan antara list 2D dan list 1D dapat terlihat dalam ilustrasi \n",
    "| 1 2 3 4 5 | ini adalah list 1 dimensi\n",
    "\n",
    "\n",
    "\n"
   ]
  },
  {
   "cell_type": "markdown",
   "id": "2a1bb305",
   "metadata": {},
   "source": [
    "**2. Berikan contoh data yang menggunakan representasi List2D**"
   ]
  },
  {
   "cell_type": "markdown",
   "id": "62f1f430",
   "metadata": {},
   "source": [
    "Untuk menyusun data agar dapat dilihat dan diproses dengan mudah kita perlu memvisualisasikan"
   ]
  },
  {
   "cell_type": "markdown",
   "id": "abdcdd79",
   "metadata": {},
   "source": [
    "# **Implementasi-Modul Matriks**\n",
    "\n",
    "Buatlah modul matriks yang berisi proses pembuatan dan pengolahan data list 2D, sebagai berikut"
   ]
  },
  {
   "cell_type": "markdown",
   "id": "dca8bd13",
   "metadata": {},
   "source": [
    "## **Create Matrix 2D**\n",
    "\n",
    "Buatlah fungsi create Matrix2D untuk membuat suatu matriks 2D dengan representasi list 2D (dengan argument atau parameter adalah jumlah baris dan jumlah kolom)\n"
   ]
  },
  {
   "cell_type": "code",
   "execution_count": 2,
   "id": "3a1a4a9a",
   "metadata": {},
   "outputs": [
    {
     "ename": "TypeError",
     "evalue": "createMatrix2D() takes 2 positional arguments but 3 were given",
     "output_type": "error",
     "traceback": [
      "\u001b[0;31m---------------------------------------------------------------------------\u001b[0m",
      "\u001b[0;31mTypeError\u001b[0m                                 Traceback (most recent call last)",
      "\u001b[0;32m/tmp/ipykernel_17572/541622251.py\u001b[0m in \u001b[0;36m<module>\u001b[0;34m\u001b[0m\n\u001b[1;32m     31\u001b[0m \"\"\"    \n\u001b[1;32m     32\u001b[0m \u001b[0;34m\u001b[0m\u001b[0m\n\u001b[0;32m---> 33\u001b[0;31m \u001b[0mmat1\u001b[0m \u001b[0;34m=\u001b[0m \u001b[0mmatrix\u001b[0m\u001b[0;34m.\u001b[0m\u001b[0mcreateMatrix2D\u001b[0m\u001b[0;34m(\u001b[0m\u001b[0;36m2\u001b[0m\u001b[0;34m,\u001b[0m\u001b[0;36m3\u001b[0m\u001b[0;34m)\u001b[0m\u001b[0;34m\u001b[0m\u001b[0;34m\u001b[0m\u001b[0m\n\u001b[0m\u001b[1;32m     34\u001b[0m \u001b[0;31m#mat2 = matrix.createMatrix2D(2,3)\u001b[0m\u001b[0;34m\u001b[0m\u001b[0;34m\u001b[0m\u001b[0;34m\u001b[0m\u001b[0m\n\u001b[1;32m     35\u001b[0m \u001b[0;31m#mat3 = matrix.createMatrix2D(3,4)\u001b[0m\u001b[0;34m\u001b[0m\u001b[0;34m\u001b[0m\u001b[0;34m\u001b[0m\u001b[0m\n",
      "\u001b[0;31mTypeError\u001b[0m: createMatrix2D() takes 2 positional arguments but 3 were given"
     ]
    }
   ],
   "source": [
    "import urllib\n",
    "import urllib.request\n",
    "#exec urllib.urlopen('https://raw.githubusercontent.com/satriaer77/alpro_praktikum/main/Praktikum_Baru/Module/matrix.py')\n",
    "class Matrix :\n",
    "    urlModule = urllib.request.urlopen('https://raw.githubusercontent.com/satriaer77/alpro_praktikum/main/Praktikum_Baru/Module/matrix.py')\n",
    "    exec(urlModule.read())\n",
    "matrix = Matrix()\n",
    "#matrix = matrix(urlModule)\n",
    "#filepath = urllib.request.urlopen('https://raw.githubusercontent.com/satriaer77/alpro_praktikum/main/Praktikum_Baru/Module/matrix.py')[0]\n",
    "#with open(filepath) as f: \n",
    " #   exec(f) in globals()\n",
    "    \n",
    "#exec(open(a.read())).read()\n",
    "#import matrix\n",
    "\n",
    "#def matrixURL(URL):\n",
    "#    exec(urllib.request.urlopen(URL)).read() in globals()\n",
    "\n",
    "#matrixMd = matrixURL('https://raw.githubusercontent.com/satriaer77/alpro_praktikum/main/Praktikum_Baru/Module/matrix.py')\n",
    "\"\"\"\n",
    "def createMatrix2D(baris,kolom) :\n",
    "    matrix = []\n",
    "    for i in range(baris) :\n",
    "        bar = []\n",
    "        for j in range(kolom) :\n",
    "            bar.append(int(input(\"==> Mat[%d,%d] : \" % (i,j) )))\n",
    "            \n",
    "        matrix.append(bar)\n",
    "\n",
    "    return matrix\n",
    "\"\"\"    \n",
    "    \n",
    "mat1 = matrix.createMatrix2D(2,3)\n",
    "mat2 = matrix.createMatrix2D(2,3)\n",
    "mat3 = matrix.createMatrix2D(3,4)\n",
    "mat4 = matrix.createMatrix2D(3,1)"
   ]
  },
  {
   "cell_type": "markdown",
   "id": "3f5fde40",
   "metadata": {},
   "source": [
    "##### **Display Matrix**\n",
    "\n",
    "Buatlah fungsi display Matrix2D untuk menampilkan suatu matriks 2D (dengan argument atau parameter adalah matriks yang akan ditampilkan)"
   ]
  },
  {
   "cell_type": "code",
   "execution_count": 8,
   "id": "43921271",
   "metadata": {},
   "outputs": [
    {
     "name": "stdout",
     "output_type": "stream",
     "text": [
      "1 \n",
      "\n",
      "2 \n",
      "\n",
      "2 \n",
      "\n",
      "2 \n",
      "\n",
      "\n",
      "\n",
      "Matrix1 : \n",
      "|   1    2    3   |\n",
      "|   4    5    6   |\n",
      "\n",
      "\n",
      "Matrix2 :\n",
      "|    7     8     9   |\n",
      "|   10    11    12   |\n",
      "\n",
      "\n",
      "Matrix3 :\n",
      "|   13    14    15    16   |\n",
      "|   17    18    19    20   |\n",
      "|   21    22    23    24   |\n",
      "\n",
      "\n",
      "Matrix4 :\n",
      "|   25   |\n",
      "|   26   |\n",
      "|   27   |\n",
      "\n",
      "\n",
      "\n"
     ]
    }
   ],
   "source": [
    "\"\"\"\n",
    "\n",
    "def dispMatrix2D(listMatrix) :\n",
    "    strMatrix = \"\"\n",
    "    pjgMax    = 0\n",
    "    for i in range(len(listMatrix)) : \n",
    "        if pjgMax <= len(str(max(listMatrix[i]))) :              \n",
    "            pjgMax = len(str(max(listMatrix[i])))\n",
    "            \n",
    "    print(pjgMax,\"\\n\")\n",
    "    for baris in listMatrix :\n",
    "        \n",
    "        for kolom in baris :\n",
    "            if baris.index(kolom) == 0 :\n",
    "                strMatrix = strMatrix+\"| \"\n",
    "            \n",
    "            strMatrix = strMatrix+\"  %s%d  \" % (\" \"*(pjgMax-len(str(kolom))),kolom)   \n",
    "                \n",
    "            if baris.index(kolom) == len(baris)-1 :\n",
    "                strMatrix = strMatrix+\" |\\n\"\n",
    "                \n",
    "            \n",
    "    return strMatrix\n",
    "\n",
    "\"\"\"\n",
    "\n",
    "print(\"\"\"\n",
    "\n",
    "Matrix1 : \n",
    "%s\n",
    "\n",
    "Matrix2 :\n",
    "%s\n",
    "\n",
    "Matrix3 :\n",
    "%s\n",
    "\n",
    "Matrix4 :\n",
    "%s\n",
    "\n",
    "\"\"\"% (matrix.dispMatrix2D(mat1),matrix.dispMatrix2D(mat2),matrix.dispMatrix2D(mat3),matrix.dispMatrix2D(mat4) ) )"
   ]
  },
  {
   "cell_type": "markdown",
   "id": "9d11c94b",
   "metadata": {},
   "source": [
    "## **Square Matrix**\n",
    "\n",
    "Buatlah fungsi is square Matrix2D untuk mengecek apakah suatu matrix 2D adalah matriks square ? (dengan argument atau parameter adalah matriks yang akan dicek)"
   ]
  },
  {
   "cell_type": "code",
   "execution_count": 68,
   "id": "797c5483",
   "metadata": {},
   "outputs": [
    {
     "name": "stdout",
     "output_type": "stream",
     "text": [
      "\n",
      "Matrix1 : is Square ? False\n",
      "Matrix2 : is Square ? False\n",
      "Matrix3 : is Square ? False\n",
      "Matrix4 : is Square ? False\n",
      "\n"
     ]
    }
   ],
   "source": [
    "\"\"\"\n",
    "def isSquare(listMatrix) : \n",
    "    square = True\n",
    "    \n",
    "    #for baris in listMatrix :\n",
    "     #   for kolom in baris :\n",
    "      #      if len(listMatrix) != len(baris) :\n",
    "       #         square = False\n",
    "    \n",
    "    if len(listMatrix) != len(listMatrix[0]) :\n",
    "        square = False\n",
    "    \n",
    "    return square\n",
    "\"\"\"\n",
    "\n",
    "print(\"\"\"\n",
    "Matrix1 : is Square ? %s\n",
    "Matrix2 : is Square ? %s\n",
    "Matrix3 : is Square ? %s\n",
    "Matrix4 : is Square ? %s\n",
    "\"\"\" %( matrix.isSquare(mat1),matrix.isSquare(mat2),matrix.isSquare(mat3),matrix.isSquare(mat4) ) ) "
   ]
  },
  {
   "cell_type": "markdown",
   "id": "bb1d6582",
   "metadata": {},
   "source": [
    "## **Penjumlahan Matriks**\n",
    "\n",
    "Buatlah fungsi Penjumlahan Matrix2D untuk menjumlahkan dua buah matriks (dengan argument atau parameter adalah matriks yang akan dijumlahkan). Di dalam fungsi tersebut dilakukan pengecekan apakah dua buah matriks dapat dijumlahkan"
   ]
  },
  {
   "cell_type": "code",
   "execution_count": 12,
   "id": "f09dc203",
   "metadata": {},
   "outputs": [
    {
     "name": "stdout",
     "output_type": "stream",
     "text": [
      "1 \n",
      "\n",
      "2 \n",
      "\n",
      "2 \n",
      "\n",
      "\n",
      "Matrix1+Matrix2 :\n",
      "\n",
      "|   1    2    3   |\n",
      "|   4    5    6   |\n",
      "\n",
      "+\n",
      "|    7     8     9   |\n",
      "|   10    11    12   |\n",
      "\n",
      "\n",
      "=\n",
      "\n",
      "|    8    10    12   |\n",
      "|   14    16    18   |\n",
      "\n",
      "\n"
     ]
    }
   ],
   "source": [
    "\n",
    "\"\"\"\n",
    "def addList(listMatrix1,listMatrix2) :\n",
    "    pjgBaris = len(listMatrix1) == len(listMatrix2)\n",
    "    pjgKolom = len(listMatrix1[0]) == len(listMatrix2[0])\n",
    "    \n",
    "    \n",
    "    if pjgBaris and pjgKolom :\n",
    "        hasil    = []\n",
    "        for i in range(len(listMatrix1)) :\n",
    "            tmpHasil = []\n",
    "            for j in range(len(listMatrix1[i])) :\n",
    "                tmpHasil.append(listMatrix1[i][j]+listMatrix2[i][j])\n",
    "                \n",
    "            hasil.append(tmpHasil)\n",
    "        return hasil\n",
    "    \n",
    "    else :\n",
    "        print(\"'Ordo matrix tidak sama'\")\n",
    "\"\"\"   \n",
    "    \n",
    "print(\"\"\"\n",
    "Matrix1+Matrix2 :\n",
    "\n",
    "%s\n",
    "+\n",
    "%s\n",
    "\n",
    "=\n",
    "\n",
    "%s\n",
    "\"\"\" % (\n",
    "        matrix.dispMatrix2D(mat1),\n",
    "        matrix.dispMatrix2D(mat2),\n",
    "        matrix.dispMatrix2D(matrix.addList(mat1,mat2)) \n",
    "    ) )\n"
   ]
  },
  {
   "cell_type": "code",
   "execution_count": null,
   "id": "595ebf26",
   "metadata": {},
   "outputs": [],
   "source": []
  }
 ],
 "metadata": {
  "kernelspec": {
   "display_name": "Python 3 (ipykernel)",
   "language": "python",
   "name": "python3"
  },
  "language_info": {
   "codemirror_mode": {
    "name": "ipython",
    "version": 3
   },
   "file_extension": ".py",
   "mimetype": "text/x-python",
   "name": "python",
   "nbconvert_exporter": "python",
   "pygments_lexer": "ipython3",
   "version": "3.7.3"
  }
 },
 "nbformat": 4,
 "nbformat_minor": 5
}
