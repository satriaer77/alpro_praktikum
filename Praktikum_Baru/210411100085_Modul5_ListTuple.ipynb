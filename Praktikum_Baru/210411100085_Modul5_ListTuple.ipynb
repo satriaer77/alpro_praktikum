{
 "cells": [
  {
   "cell_type": "markdown",
   "id": "fe69d6c8",
   "metadata": {},
   "source": [
    "# **Konsep String, List, dan Tuple**\n",
    "\n",
    "Tulis ringkasan atau penjelasan hal-hal berikut, dengan kata-kata kalian sendiri :\n",
    "\n",
    "1. textbfTuple, akses variabel yang bertipe tuple (jelaskan indeks, dan pengaksesan setiap anggota yang terdapat pada tuple) dan berikan contoh\n",
    "\n",
    "2. Perbedaan String, List, dan Tuple, dan berikan contoh kapan waktu yang tepat harus menggunakan tipe string, list, ataupun tuple\n",
    "\n",
    "3. List comprehension (syntax dan contohnya)\n"
   ]
  },
  {
   "cell_type": "markdown",
   "id": "298eb98f",
   "metadata": {},
   "source": [
    "**1. textbfTuple, akses variabel yang bertipe tuple (jelaskan indeks, dan pengaksesan setiap anggota yang terdapat pada tuple) dan berikan contoh**"
   ]
  },
  {
   "cell_type": "markdown",
   "id": "0d5998ab",
   "metadata": {},
   "source": [
    "#### **Penjelasan Indeks**\n",
    "\n",
    "Indeks adalah nomor/posisi sebuah elemen yang berada di variable tuple.\n",
    "\n",
    "\n",
    "#### **Pengaksesan elemen Tuple**\n",
    "\n",
    "Untuk mengakses tuple bisa menggunakan tanda kurung siku dan no indeks contohnya seperti ini.\n",
    "\n",
    "~~~python\n",
    "nama = (\"Lzzy\",\"Tom\",\"Mitsuhida\")\n",
    "\n",
    "nama[1] #Mengaksesnya menggunakan no index\n",
    "nama[2]\n",
    "nama[0]\n",
    "~~~"
   ]
  },
  {
   "cell_type": "markdown",
   "id": "a547acb9",
   "metadata": {},
   "source": [
    "**2. Perbedaan String, List, dan Tuple, dan berikan contoh kapan waktu yang tepat harus menggunakan tipe string, list, ataupun tuple**"
   ]
  },
  {
   "cell_type": "markdown",
   "id": "dbf96249",
   "metadata": {},
   "source": [
    "Perbedaan ketiganya terletak di nilainya bila string nilainya berupa kata/kalimat/paragraf saja dan hanya dapat menampung satu nilai, sedangkan list dapat menampung nilai lebih dari satu bisa berupa karakter/teks dan angka, dan tuple juga karakteristiknya seperti list tetapi nilai di dalam tuple tidak bisa diubah.\n",
    "\n",
    "**Penggunaan String, List, Tuple**\n",
    "\n",
    "String digunakan saat membuat suatu kata atau kalimat atau paragraf. Karena string hanya bisa menampung teks/karakter saja.\n",
    "\n",
    "List lebih tepat digunakan saat membuat suatu daftar/nilai/elemen yang banyaknya lebih dari satu, dan nilainya bisa diubah sewaktu-waktu.\n",
    "\n",
    "Sedangkan Tuple penggunaannya semacam list tetapi nilai di tuple tidak bisa diubah atau immutable, sehingga cocok untuk membuat daftar elemen yang sudah pasti contoh nama hari, bulan.\n",
    "\n"
   ]
  },
  {
   "cell_type": "markdown",
   "id": "b42cee8d",
   "metadata": {},
   "source": [
    "**3. List comprehension (syntax dan contohnya)**"
   ]
  },
  {
   "cell_type": "code",
   "execution_count": 6,
   "id": "56788b4b",
   "metadata": {},
   "outputs": [
    {
     "name": "stdout",
     "output_type": "stream",
     "text": [
      "[0, 2, 4, 6, 8]\n"
     ]
    }
   ],
   "source": [
    "#listAngka = [output perulangan kondisi]\n",
    "listAngka = [i for i in range(10) if i%2 == 0]\n",
    "\n",
    "print(listAngka)"
   ]
  },
  {
   "cell_type": "markdown",
   "id": "87e598e9",
   "metadata": {},
   "source": [
    "# **Implementasi**"
   ]
  },
  {
   "cell_type": "markdown",
   "id": "1154345b",
   "metadata": {},
   "source": [
    "## **Penjumlahan List**\n",
    "\n",
    "Buatlah code dengan menggunakan Python untuk menjumlahkan setiap anggota yang terdapat pada dua buah list, dengan ketentuan sebagai berikut :\n",
    "\n",
    "• Dua buah list yang akan dijumlahkan merupakan input dari user\n",
    "\n",
    "• terdapat dua skenario pada operasi penjumlahan ini, yaitu :\n",
    "\n",
    "    – dua buah list memiliki ukuran yang sama\n",
    "    – salah satu list memiliki ukuran yang sama besar\n"
   ]
  },
  {
   "cell_type": "code",
   "execution_count": 3,
   "id": "8463010f",
   "metadata": {},
   "outputs": [
    {
     "name": "stdout",
     "output_type": "stream",
     "text": [
      "==> Masukkan ukuran list pertama = 2\n",
      "-> Masukkan data ke- 0 : 4\n",
      "-> Masukkan data ke- 1 : 3\n",
      "\n",
      "\n",
      "==> Masukkan ukuran list kedua = 4\n",
      "-> Masukkan data ke- 0 : 3\n",
      "-> Masukkan data ke- 1 : 4\n",
      "-> Masukkan data ke- 2 : 5\n",
      "-> Masukkan data ke- 3 : 6\n",
      "\n",
      "List Pertama      = [4, 3]\n",
      "List Kedua        = [3, 4, 5, 6]\n",
      "----------------------------------+\n",
      "Hasil Penjumlahan = [7, 7, 5, 6] \n",
      "\n"
     ]
    }
   ],
   "source": [
    "def buatList(bykAkg) :\n",
    "    listAngka = []\n",
    "    for i in range(bykAkg) :\n",
    "        listAngka.append(int(input(\"-> Masukkan data ke- %d : \"%(i))))\n",
    "\n",
    "    return listAngka\n",
    "\n",
    "\n",
    "bykAngka1   = int(input(\"==> Masukkan ukuran list pertama = \"))\n",
    "listAngka1  = buatList(bykAngka1) \n",
    "\n",
    "bykAngka2   = int(input(\"\\n\\n==> Masukkan ukuran list kedua = \")) \n",
    "listAngka2  = buatList(bykAngka2)\n",
    "\n",
    "listBanyak  = listAngka1\n",
    "listSedikit = listAngka2\n",
    "listHasil   = []\n",
    "\n",
    "if len(listAngka1) < len(listAngka2) :\n",
    "    listBanyak  = listAngka2\n",
    "    listSedikit = listAngka1\n",
    "\n",
    "for i in range(len(listBanyak)) :\n",
    "    try : \n",
    "        listHasil.append(listBanyak[i]+listSedikit[i])\n",
    "    except : #bila i melampaui indeks listSedikit\n",
    "        listHasil.append(listBanyak[i])\n",
    "\n",
    "print(\"\"\"\n",
    "List Pertama      = %s\n",
    "List Kedua        = %s\n",
    "----------------------%s+\n",
    "Hasil Penjumlahan = %s \n",
    "\"\"\" % (listAngka1,listAngka2,'-'*(len(str(listHasil))),listHasil) )\n"
   ]
  },
  {
   "cell_type": "markdown",
   "id": "016e67d9",
   "metadata": {},
   "source": [
    "## **Mendapatkan nama hari dari suatu tanggal**\n",
    "\n",
    "Buatlah code dengan menggunakan Python mendapatkan nama hari (gunakan data dengan bentuk tuple),dengan ketentuan sebagai berikut :\n",
    "\n",
    "• user memberikan informasi bahwa tanggal pertama bulan ini, jatuh pada hari tertentu\n",
    "\n",
    "• tanggal yang ingin dicari nama harinya, adalah inputan dari user\n",
    "\n",
    "• untuk melihat apakah output yang dihasilkan adalah benar, dapat dilihat di calender\n",
    "\n",
    "Petunjuk : untuk mendapatkan index dari suatu data tuple atau list, bisa digunakan perintah namaTuple.index(anggota)."
   ]
  },
  {
   "cell_type": "code",
   "execution_count": 6,
   "id": "cbece890",
   "metadata": {
    "scrolled": true
   },
   "outputs": [
    {
     "name": "stdout",
     "output_type": "stream",
     "text": [
      "==> Masukkan informasi, hari pertama bulan ini, jatuh pada hari : Rabu\n",
      "==> Masukkan tanggal yang ingin diketahui harinya : 27\n",
      "Tanggal 27 adalah hari Selasa\n"
     ]
    }
   ],
   "source": [
    "hari        = (\"Senin\", \"Selasa\", \"Rabu\", \"Kamis\", \"Jumat\", \"Sabtu\", \"Minggu\")\n",
    "hariPertama = input(\"==> Masukkan informasi, hari pertama bulan ini, jatuh pada hari : \")\n",
    "tanggal     = int(input(\"==> Masukkan tanggal yang ingin diketahui harinya : \"))\n",
    "indexHari   = hari.index(hariPertama)-1\n",
    "\n",
    "for i in range(tanggal) :\n",
    "    indexHari+=1\n",
    "    if indexHari == 7 :\n",
    "        indexHari = 0\n",
    "\n",
    "print(\"Tanggal %d adalah hari %s\"%(tanggal,hari[indexHari]))\n"
   ]
  },
  {
   "cell_type": "markdown",
   "id": "ab873174",
   "metadata": {},
   "source": [
    "## **List Comprehension**\n",
    "\n",
    "Dengan menggunakan list comprehension, buatlah list ganjil dan list genap dari suatu list yang merupakan inputan dari user, seperti yang ditunjukkan pada contoh Gambar 3"
   ]
  },
  {
   "cell_type": "code",
   "execution_count": 5,
   "id": "3eba5932",
   "metadata": {},
   "outputs": [
    {
     "name": "stdout",
     "output_type": "stream",
     "text": [
      "==> Masukkan banyak angka = 3\n",
      "-> Masukkan data ke- 0 = 2\n",
      "-> Masukkan data ke- 1 = 1\n",
      "-> Masukkan data ke- 2 = 3\n",
      "\n",
      "List   = [2, 1, 3]\n",
      "Genap  = [2]\n",
      "Ganjil = [1, 3]\n",
      "\n"
     ]
    }
   ],
   "source": [
    "jmlAngka  = int(input(\"==> Masukkan banyak angka = \"))\n",
    "listAngka = [int(input(\"-> Masukkan data ke- %d = \" % (i))) for i in range(jmlAngka)]\n",
    "\n",
    "genap     = [genap for genap in listAngka if genap%2 == 0]\n",
    "ganjil    = [ganjil for ganjil in listAngka if ganjil%2 != 0]\n",
    "\n",
    "print(\"\"\"\n",
    "List   = %s\n",
    "Genap  = %s\n",
    "Ganjil = %s\n",
    "\"\"\" % (listAngka,genap,ganjil))"
   ]
  },
  {
   "cell_type": "code",
   "execution_count": null,
   "id": "e7b171df",
   "metadata": {},
   "outputs": [],
   "source": []
  }
 ],
 "metadata": {
  "kernelspec": {
   "display_name": "alpro-env",
   "language": "python",
   "name": "alpro-env"
  },
  "language_info": {
   "codemirror_mode": {
    "name": "ipython",
    "version": 3
   },
   "file_extension": ".py",
   "mimetype": "text/x-python",
   "name": "python",
   "nbconvert_exporter": "python",
   "pygments_lexer": "ipython3",
   "version": "3.7.3"
  }
 },
 "nbformat": 4,
 "nbformat_minor": 5
}
