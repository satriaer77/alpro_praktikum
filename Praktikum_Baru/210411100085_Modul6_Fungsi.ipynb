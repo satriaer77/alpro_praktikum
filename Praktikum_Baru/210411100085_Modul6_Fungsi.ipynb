{
 "cells": [
  {
   "cell_type": "markdown",
   "id": "655f699c",
   "metadata": {},
   "source": [
    "# **Fungsi**\n",
    "\n",
    "Tulis ringkasan atau penjelasan hal-hal berikut, dengan kata-kata kalian sendiri :\n",
    "\n",
    "1. Sebutkan alasan kenapa kita harus menggunakan Fungsi (Function), jika perlu tambahkan contoh\n",
    "\n",
    "2. Sebutkan Jenis Fungsi dan perbedaannya, syntax umum dari fungsi tersebut, berikan contoh"
   ]
  },
  {
   "cell_type": "markdown",
   "id": "4b573a28",
   "metadata": {},
   "source": [
    "**1. Sebutkan alasan kenapa kita harus menggunakan Fungsi (Function), jika perlu tambahkan contoh**"
   ]
  },
  {
   "cell_type": "markdown",
   "id": "c6eaa22a",
   "metadata": {},
   "source": [
    "- Agar code lebih rapi dan mudah dibaca\n",
    "- Membuat code lebih efisien\n"
   ]
  },
  {
   "cell_type": "markdown",
   "id": "4250dd80",
   "metadata": {},
   "source": [
    "**2. Sebutkan Jenis Fungsi dan perbedaannya, syntax umum dari fungsi tersebut, berikan contoh**"
   ]
  },
  {
   "cell_type": "markdown",
   "id": "59f4e700",
   "metadata": {},
   "source": [
    "\n",
    "Syntax umum fungsi \n",
    "\n",
    "~~~python\n",
    "def namaFungsi(parameter) :\n",
    "    #code\n",
    "\n",
    "~~~"
   ]
  },
  {
   "cell_type": "markdown",
   "id": "6ae316d7",
   "metadata": {},
   "source": [
    "# **Implementasi**"
   ]
  },
  {
   "cell_type": "markdown",
   "id": "851b4eda",
   "metadata": {},
   "source": [
    "## **Cek List**\n",
    "\n",
    "Buatlah Fungsi dan code untuk memanggil fungsi dengan menggunakan Python, antara lain :\n",
    "\n",
    "• Fungsi createList untuk membentuk suatu list dengan parameter atau argumen berupa ukuran list\n",
    "\n",
    "• Fungsi isPrime untuk menentukan apakah suatu bilangan adalah bilangan prima, dengan argumen adalah bilangan yang akan dicek\n",
    "\n",
    "• Fungsi createListPrime untuk membuat suatu list yang berisi bilangan prima, dengan ketentuan :\n",
    "    \n",
    "    – argumen atau paramater adalah list dimana di setiap anggotanya akan dicek termasuk bilangan prima ataukah tidak\n",
    "    \n",
    "    – gunakan fungsi isPrime yang sudah dibuat, untuk cek apakah suatu bilangan adalah bilangan prima\n",
    "    \n",
    "    – anggota-anggota list yang dihasilkan dari fungsi ini, tidak boleh sama [Hint: gunakan in]\n"
   ]
  },
  {
   "cell_type": "code",
   "execution_count": 14,
   "id": "6e659f30",
   "metadata": {},
   "outputs": [
    {
     "name": "stdout",
     "output_type": "stream",
     "text": [
      "==> Masukkan data ke- 0 = 4\n",
      "==> Masukkan data ke- 1 = 5\n",
      "==> Masukkan data ke- 2 = 5\n",
      "==> Masukkan data ke- 3 = 7\n",
      "==> Masukkan data ke- 4 = 8\n",
      "Data List =  [4, 5, 5, 7, 8]\n",
      "Data Prima =  [5, 7]\n"
     ]
    }
   ],
   "source": [
    "def createList(listLen) :\n",
    "    listNums = []\n",
    "    for i in range(listLen) :\n",
    "        listNums.append(int(input(\"==> Masukkan data ke- %d = \"%(i))))\n",
    "    return listNums\n",
    "\n",
    "def isPrime(num) :\n",
    "    prime = True\n",
    "    for i in range(2,num) :\n",
    "        if num%i == 0 :\n",
    "            prime = False\n",
    "            break\n",
    "\n",
    "    return prime\n",
    "\n",
    "\n",
    "def createListPrime(nums) :\n",
    "    primeList = []\n",
    "    for num in nums :\n",
    "        if isPrime(num) and num not in primeList :\n",
    "            primeList.append(num)\n",
    "            \n",
    "    return primeList\n",
    "\n",
    "\n",
    "data = createList(5) \n",
    "print(\"Data List = \",data)\n",
    "          \n",
    "prima = createListPrime(data)\n",
    "print(\"Data Prima = \",prima)"
   ]
  },
  {
   "cell_type": "markdown",
   "id": "5cec262a",
   "metadata": {},
   "source": [
    "## **Operasi List**\n",
    "\n",
    "Buatlah Fungsi dan code untuk memanggil fungsi dengan menggunakan Python, antara lain :\n",
    "\n",
    "• Fungsi createList untuk membentuk suatu list dengan parameter atau argumen berupa ukuran list\n",
    "\n",
    "• Fungsi avgList untuk menghitung rata-rata suatu list, dengan argumen adalah list\n",
    "\n",
    "• Fungsi addList untuk menjumlahkan dua buah list yang memiliki ukuran yang sama"
   ]
  },
  {
   "cell_type": "code",
   "execution_count": 19,
   "id": "0cdd31ad",
   "metadata": {},
   "outputs": [
    {
     "name": "stdout",
     "output_type": "stream",
     "text": [
      "==> Masukkan data ke- 0 = 3\n",
      "==> Masukkan data ke- 1 = 4\n",
      "Data - 1 = [3, 4] , Rata-rata List = 3.5 \n",
      "==> Masukkan data ke- 0 = 5\n",
      "==> Masukkan data ke- 1 = 6\n",
      "==> Masukkan data ke- 2 = 8\n",
      "Data - 2 = [5, 6, 8] , Rata-rata List = 6.33333 \n",
      "[3, 4] + [5, 6, 8] = Ukuran List Tidak sama \n"
     ]
    }
   ],
   "source": [
    "def createList(lenList) :\n",
    "    numsList = []\n",
    "    for i in range(lenList) :\n",
    "        numsList.append(int(input(\"==> Masukkan data ke- %d = \" % (i))))\n",
    "    return numsList\n",
    "\n",
    "def addList(list1,list2) :\n",
    "    if len(list1) == len(list2) :\n",
    "        result = []\n",
    "        for i in range(len(list1)) :\n",
    "            result.append(list1[i]+list2[i])\n",
    "        return result\n",
    "    else :\n",
    "        return \"Ukuran List Tidak sama\"\n",
    "\n",
    "def avgList(numsList) :\n",
    "    return sum(numsList)/len(numsList)\n",
    "\n",
    "\n",
    "data1 = createList(2)\n",
    "print(\"Data - 1 = %s , Rata-rata List = %g \" % (data1,avgList(data1)))\n",
    "\n",
    "data2 = createList(3)\n",
    "print(\"Data - 2 = %s , Rata-rata List = %g \" % (data2,avgList(data2)))\n",
    "\n",
    "\n",
    "hasil = addList(data1,data2)\n",
    "print(\"%s + %s = %s \" % (data1,data2,hasil))"
   ]
  },
  {
   "cell_type": "markdown",
   "id": "3c9f243f",
   "metadata": {},
   "source": [
    "## **Flowchart Function**\n",
    "\n",
    "Buatlah flowchart dari fungsi dan main code yang sudah dikerjakan pada nomor sebelumnya (Operasi List).\n"
   ]
  }
 ],
 "metadata": {
  "kernelspec": {
   "display_name": "alpro-env",
   "language": "python",
   "name": "alpro-env"
  },
  "language_info": {
   "codemirror_mode": {
    "name": "ipython",
    "version": 3
   },
   "file_extension": ".py",
   "mimetype": "text/x-python",
   "name": "python",
   "nbconvert_exporter": "python",
   "pygments_lexer": "ipython3",
   "version": "3.7.3"
  }
 },
 "nbformat": 4,
 "nbformat_minor": 5
}
