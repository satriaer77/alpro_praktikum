{
 "cells": [
  {
   "cell_type": "markdown",
   "id": "ecf62b85",
   "metadata": {},
   "source": [
    "# **List 2 Dimensi**\n",
    "\n",
    "Tulis ringkasan atau penjelasan hal-hal berikut, dengan kata-kata kalian sendiri :\n",
    "\n",
    "1. Jelaskan mengenai List 2D, Perbedaannya dengan List 1D\n",
    "\n",
    "2. Berikan contoh data yang menggunakan representasi List2D\n"
   ]
  },
  {
   "cell_type": "markdown",
   "id": "b02a492d",
   "metadata": {},
   "source": [
    "**1. Jelaskan mengenai List 2D, Perbedaannya dengan List 1D**"
   ]
  },
  {
   "cell_type": "markdown",
   "id": "a60df42b",
   "metadata": {},
   "source": [
    "List 2D merupakan list yang mempunyai elemen list, illustrasinya seperti ini :\n",
    "\n",
    "| 2 3 4 1 8 | \\ \n",
    "| 3 4 6 1 4 |  ---- Ini merupakan list 2D karena mempunyai baris dan kolom\n",
    "| 3 4 5 8 3 | /\n",
    "\n",
    "Dalam implementasinya di bahasa pemrograman python list 2D direprentasikan list yang mempunyai elemen list, contohnya seperti ini :\n",
    "\n",
    "~~~python\n",
    "listMahasiswa = [[\"Alexandra\", \"Joshua\", \"Steve\"],[86,96,75]] \n",
    "#atau Juga bisa seperti ini\n",
    "listMahasiswa2= [\n",
    "    \n",
    "[\"Alexandra\", \"Joshua\", \"Steve\"],\n",
    "[86,96,75]\n",
    "\n",
    "]\n",
    "\n",
    "print(\"\"\"\n",
    "Nama Mahasiswa  : %s\n",
    "Nilai Mahasiswa : %s\n",
    "\"\"\" % (listMahasiswa[0],listMahasiswa[1]) )\n",
    "\n",
    "~~~\n",
    "\n",
    "Perbedaan antara list 2D dan list 1D dapat terlihat dalam ilustrasi \n",
    "| 1 2 3 4 5 | ini adalah list 1 dimensi\n",
    "\n",
    "\n",
    "\n"
   ]
  },
  {
   "cell_type": "markdown",
   "id": "f95bc42b",
   "metadata": {},
   "source": [
    "**2. Berikan contoh data yang menggunakan representasi List2D**"
   ]
  },
  {
   "cell_type": "markdown",
   "id": "8e7fb479",
   "metadata": {},
   "source": [
    "Untuk menyusun data agar dapat dilihat dan diproses dengan mudah kita perlu memvisualisasikan"
   ]
  },
  {
   "cell_type": "code",
   "execution_count": 2,
   "id": "7893f64b",
   "metadata": {},
   "outputs": [
    {
     "name": "stdout",
     "output_type": "stream",
     "text": [
      "\n",
      "Nama Mahasiswa  : ['Alexandra', 'Joshua', 'Steve']\n",
      "Nilai Mahasiswa : [86, 96, 75]\n",
      "\n"
     ]
    }
   ],
   "source": [
    "listMahasiswa= [\n",
    "[\"Alexandra\", \"Joshua\", \"Steve\"],\n",
    "[86,96,75]\n",
    "]\n",
    "\n",
    "print(\"\"\"\n",
    "Nama Mahasiswa  : %s\n",
    "Nilai Mahasiswa : %s\n",
    "\"\"\" % (listMahasiswa[0],listMahasiswa[1]) )\n"
   ]
  },
  {
   "cell_type": "code",
   "execution_count": null,
   "id": "55e5a0f9",
   "metadata": {},
   "outputs": [],
   "source": []
  }
 ],
 "metadata": {
  "kernelspec": {
   "display_name": "Python 3 (ipykernel)",
   "language": "python",
   "name": "python3"
  },
  "language_info": {
   "codemirror_mode": {
    "name": "ipython",
    "version": 3
   },
   "file_extension": ".py",
   "mimetype": "text/x-python",
   "name": "python",
   "nbconvert_exporter": "python",
   "pygments_lexer": "ipython3",
   "version": "3.7.3"
  }
 },
 "nbformat": 4,
 "nbformat_minor": 5
}
