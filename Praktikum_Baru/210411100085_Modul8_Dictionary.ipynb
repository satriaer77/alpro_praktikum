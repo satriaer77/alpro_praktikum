{
 "cells": [
  {
   "cell_type": "markdown",
   "id": "6b54463f",
   "metadata": {},
   "source": [
    "#  **Dictionary**\n",
    "\n",
    "Tulis ringkasan atau penjelasan hal-hal berikut, dengan kata-kata kalian sendiri :\n",
    "\n",
    "1. Jelaskan Dictionary dan contoh implementasinya\n",
    "\n",
    "2. Jelaskan perbedaan antara string, list, tuple, dan dictionary, berikan contoh"
   ]
  },
  {
   "cell_type": "markdown",
   "id": "f06384cc",
   "metadata": {},
   "source": [
    "**1. Jelaskan Dictionary dan contoh implementasinya**"
   ]
  },
  {
   "cell_type": "markdown",
   "id": "c1cbc752",
   "metadata": {},
   "source": [
    "Dictonary merupakan tipe data yang cirinya mirip seperti list tetapi di dalam dictionary index/key dapat berupa string,integer,float, dan lain-lain. Untuk valuenya juga bisa diisi dengan tipedata string,integer,float,list,dll. Pengaksesan di dictionary menggunakan key dari dictionary tersebut atau kalau di tipe data list disebut dengan index.\n",
    "\n",
    "\n",
    "~~~python\n",
    "dataMahasiswa = {\n",
    " \"210511100092\" : {\"Nama\" : \"Alexandra\",\"Alamat\" : \"Oxford\",\"Umur\" : \"19\"},\n",
    " \"210511100032\" : {\"Nama\" : \"Steve\",\"Alamat\" : \"Liverpool\",\"Umur\" : \"20\"}\n",
    "}\n",
    "\n",
    "#pengaksesan dictionary menggunakan key dari dictionary\n",
    "\n",
    "print(dataMahasiswa[\"210511100092\"])\n",
    "print(dataMahasiswa[\"210511100032\"]) \n",
    "\n",
    "~~~"
   ]
  },
  {
   "cell_type": "markdown",
   "id": "917aa9b9",
   "metadata": {},
   "source": [
    "**2. Jelaskan perbedaan antara string, list, tuple, dan dictionary, berikan contoh**"
   ]
  },
  {
   "cell_type": "markdown",
   "id": "1f459d10",
   "metadata": {},
   "source": [
    "Perbedaan pada keempatnya terletak pada penggunaannya bila string digunakan untuk menyimpan data berbentuk kalimat/karakter, sedangkan list, tuple, dan dictionary digunakan untuk menampung banyak data yang berbeda tipe data maupun sama. Dan pada string dan tuple \n",
    "bersifat immutable sedangkan pada list dan dictionary bersifat mutable\n",
    "\n",
    "Pengaksesan karakter pada string menggunakan offset sama seperti list dan tuple bila di kedua tipe data tersebut dikenal dengan istilah index. Hal itu berbeda lagi dengan dictionary untuk pengaksesannya menggunakan key dan ini dapat di isi dengan string,float, integer, dll.\n",
    "\n",
    "contohnya :\n",
    "\n",
    "~~~python\n",
    "kata     = \"Alexandra\" #ini adalah string\n",
    "hari     = (\"Senin\",\"Selasa\",\"Rabu\",\"Kamis\",\"Jumat\",\"Sabtu\") #ini adalah tuple\n",
    "listNama = [\"Jaka\",\"Saputra\",\"Edy\",\"Sugeng\"] #ini adalah list\n",
    "listMhs  = {\n",
    "            \"210511100092\" : {\"Nama\" : \"Alexandra\",\"Alamat\" : \"Oxford\",\"Umur\" : \"19\"},\n",
    "            \"210511100032\" : {\"Nama\" : \"Steve\",\"Alamat\" : \"Liverpool\",\"Umur\" : \"20\"}\n",
    "           } #ini adalah dictionary\n",
    "\n",
    "#Pengaksesan\n",
    "print(\"\"\"\n",
    "String \n",
    "kata = %s\n",
    "\n",
    "Tuple \n",
    "hari = %s\n",
    "\n",
    "List \n",
    "listNama = %s\n",
    "\n",
    "Dictionary\n",
    "listMhs = %s\n",
    "\n",
    "\"\"\" % (\n",
    "kata[1:5], #pengaksesan string menggunakan offset\n",
    "hari[2], #pengaksesan tuple menggunakan index\n",
    "listNama[3], #pengaksesan list menggunakan index\n",
    "listMhs[\"210511100092\"][\"Nama\"] #pengaksesan dictionary menggunakan key\n",
    "))\n",
    "\n",
    "\n",
    "~~~\n"
   ]
  },
  {
   "cell_type": "markdown",
   "id": "2dda708c",
   "metadata": {},
   "source": [
    "# **Implementasi-Dictionary**\n",
    "\n",
    "Buatlah fungsi untuk menghitung jumlah karakter di dalam suatu string, dengan ketentuan sebagai berikut :\n",
    "\n",
    "1. Argumen atau parameter adalah string kalimat\n",
    "\n",
    "2. Return value berupa data dictionary dengan key berupa karakter, dan value berupa jumlah karakter.\n",
    "\n",
    "[Hint] gunakan perintah in untuk mengecek apakah suatu item berada di dalam suatu list."
   ]
  },
  {
   "cell_type": "code",
   "execution_count": 3,
   "id": "76fddc8b",
   "metadata": {},
   "outputs": [
    {
     "name": "stdout",
     "output_type": "stream",
     "text": [
      "{'a': 4, 'l': 1, 'g': 2, 'o': 2, 'r': 3, 'i': 1, 't': 1, 'm': 3, ' ': 1, 'p': 1, 'e': 1, 'n': 1}\n"
     ]
    }
   ],
   "source": [
    "def countChar(word) :\n",
    "    dictChar = {}\n",
    "    for w in word :\n",
    "        if w not in dictChar :\n",
    "            dictChar[w] = 1\n",
    "        else :\n",
    "            dictChar[w]+=1 \n",
    "    \n",
    "    return dictChar\n",
    "\n",
    "\n",
    "kalimat = \"algoritma pemrograman\"\n",
    "print(countChar(kalimat))"
   ]
  }
 ],
 "metadata": {
  "kernelspec": {
   "display_name": "alpro-env",
   "language": "python",
   "name": "alpro-env"
  },
  "language_info": {
   "codemirror_mode": {
    "name": "ipython",
    "version": 3
   },
   "file_extension": ".py",
   "mimetype": "text/x-python",
   "name": "python",
   "nbconvert_exporter": "python",
   "pygments_lexer": "ipython3",
   "version": "3.7.3"
  }
 },
 "nbformat": 4,
 "nbformat_minor": 5
}
