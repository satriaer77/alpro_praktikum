{
 "cells": [
  {
   "cell_type": "markdown",
   "id": "5166400b",
   "metadata": {},
   "source": [
    "# **1. KONSEP STRING**\n",
    "Tulis ringkasan atau penjelasan hal-hal berikut, dengan kata-kata kalian sendiri :\n",
    "1. Pengertian tipe data string, dan berikan contoh\n",
    "2. Pengaksesan variabel yang bertipe string (jelaskan offset, dan pengaksesan karakter melalui offset), dan berikan contoh\n",
    "3. Berikan contoh tiga method yang dapat digunakan untuk variabel dengan tipe string\n"
   ]
  },
  {
   "cell_type": "markdown",
   "id": "25d37acf",
   "metadata": {},
   "source": [
    "#### **1. Pengertian tipe data string, dan berikan contoh**"
   ]
  },
  {
   "cell_type": "markdown",
   "id": "c2a2ca85",
   "metadata": {},
   "source": [
    "String adalah salah satu tipe data yang ada di bahasa pemrograman python. Di tipe data string menyimpan nilai berupa teks/karakter.\n",
    "\n",
    "##### Contoh\n",
    "\n",
    "~~~python\n",
    "nama = \"Nicolas\"\n",
    "print(nama)\n",
    "print(type(nama))\n",
    "~~~"
   ]
  },
  {
   "cell_type": "markdown",
   "id": "91c454e8",
   "metadata": {},
   "source": [
    "#### **2. Pengaksesan variabel yang bertipe string (jelaskan offset, dan pengaksesan karakter melalui offset), dan berikan contoh**"
   ]
  },
  {
   "cell_type": "markdown",
   "id": "8238941b",
   "metadata": {},
   "source": [
    "#### **Pengertian Offset**\n",
    "Offset adalah posisi indeks dari sebuah karakter.\n",
    "\n",
    "#### **Pengaksesan Karakter Melalui Offset**\n",
    "Untuk mengakses karakter melalui offset bisa menggunakan indeks [..]. untuk pengaksesannya varStr[noindeks]\n",
    "\n",
    "#### **Contoh Pengaksesan karakter melalui offset**\n",
    "\n",
    "~~~python\n",
    "nama = \"Nicolas\"\n",
    "print(nama[1])\n",
    "print(nama[:2])\n",
    "print(nama[1:4])\n",
    "print(nama[-1])\n",
    "~~~"
   ]
  },
  {
   "cell_type": "markdown",
   "id": "30f68425",
   "metadata": {},
   "source": [
    "#### **3. Berikan contoh tiga method yang dapat digunakan untuk variabel dengan tipe string**"
   ]
  },
  {
   "cell_type": "code",
   "execution_count": 4,
   "id": "f808208f",
   "metadata": {},
   "outputs": [
    {
     "name": "stdout",
     "output_type": "stream",
     "text": [
      "NICOLAS\n",
      "nicolas\n",
      "Niaholas\n"
     ]
    }
   ],
   "source": [
    "nama = \"Nicolas\"\n",
    "print(nama.upper()) #Merubah huruf menjadi kapital\n",
    "print(nama.lower()) #merubah huruf menjadi huruf kecil\n",
    "print(nama.replace('c','ah')) #menimpa huruf dengan teks/huruf baru"
   ]
  },
  {
   "cell_type": "markdown",
   "id": "95cafa6a",
   "metadata": {},
   "source": [
    "# **2. IMPLEMENTASI**"
   ]
  },
  {
   "cell_type": "markdown",
   "id": "5e078099",
   "metadata": {},
   "source": [
    "#### **2.1 Counter**\n",
    "Buatlah code dengan menggunakan Python untuk counter karakter, yaitu:\n",
    "• menentukan jumlah huruf vokal (aiueo), huruf konsonan, dan spasi, dari suatu kalimat (input dari user)\n",
    "• huruf kapital dianggap sama dengan huruf kecil, misalkan A sama dengan a\n",
    "• tampilkan juga huruf vokal dan huruf konsonan apa saja yang terdapat pada kalimat tersebut\n",
    "Contoh output yang dihasilkan dapat dilihat pada Gambar 1. Petunjuk : dapat menggunakan bantuan syntax in, seperti contoh berikut :\n",
    ">>’e’ in ’aiueo’ maka output yang dihasilkan dari syntax tersebut adalah True"
   ]
  },
  {
   "cell_type": "code",
   "execution_count": 1,
   "id": "4d85c1c3",
   "metadata": {},
   "outputs": [
    {
     "name": "stdout",
     "output_type": "stream",
     "text": [
      "==> Masukkan Kata/Kalimat : Kata kata\n",
      "\n",
      "    \n",
      "    Jumlah Huruf Vokal      : 4, yaitu :  a a a a\n",
      "    Jumlah Huruf Konsonan   : 4, yaitu :  K t k t \n",
      "    Jumlah Spasi            : 1\n",
      "\n",
      "        \n"
     ]
    }
   ],
   "source": [
    "data    = input(\"==> Masukkan Kata/Kalimat : \")                                                                                                                           \n",
    "vokal   = ['a','i','u','e','o']\n",
    "kata    = [\"\",\"\"]  #indeks kata[0] digunakan untuk huruf vokal dan indeks[1] digunakan untuk huruf konsonan\n",
    "\n",
    "\n",
    "for huruf in data.replace(\" \",\"\") :\n",
    "    if huruf.lower() in vokal : #mengecek apakah huruf ada di list vokal\n",
    "        kata[0] = kata[0]+\" \"+huruf\n",
    "    else:\n",
    "        kata[1] = kata[1]+\" \"+huruf\n",
    "\n",
    "jmlhuruf    = [len(kata[0].replace(\" \",\"\")),len(kata[1].replace(\" \",\"\"))]\n",
    "spasi       = data.count(\" \") \n",
    "\n",
    "print(\"\"\"\n",
    "    \n",
    "    Jumlah Huruf Vokal      : %s, yaitu : %s\n",
    "    Jumlah Huruf Konsonan   : %s, yaitu : %s \n",
    "    Jumlah Spasi            : %d\n",
    "\n",
    "        \"\"\" % (jmlhuruf[0],kata[0],jmlhuruf[1],kata[1],spasi))\n"
   ]
  },
  {
   "cell_type": "markdown",
   "id": "2129423b",
   "metadata": {},
   "source": [
    "#### **2.2 Offset Karakter**\n",
    "Buatlah flowchart untuk mencari indeks/offset dari suatu karakter atau huruf pada suatu kalimat, dengan ketentuan:\n",
    "• kalimat merupakan inputan dari user\n",
    "• huruf yang dicari merupakan inputan dari user\n",
    "• huruf kapital (huruf besar) dan huruf kecil dianggap sama\n",
    "Implementasikan flowchart tersebut dengan bahasa Python, dan contoh output sesuai dengan Gambar 2."
   ]
  },
  {
   "cell_type": "code",
   "execution_count": 2,
   "id": "8a4dde9f",
   "metadata": {},
   "outputs": [
    {
     "name": "stdout",
     "output_type": "stream",
     "text": [
      "==> Masukkan kalimat : Kata\n",
      "==> Masukkan huruf yang dicari : a\n",
      "Huruf a atau huruf A ke- 1 : offset- 1\n",
      "Huruf a atau huruf A ke- 2 : offset- 3\n"
     ]
    }
   ],
   "source": [
    "# Link Flowgorithm https://drive.google.com/drive/folders/1HkD6nvkz8VTuMPXvGmFiTLyy5jZUUrmv?usp=sharing\n",
    "kalimat = input(\"==> Masukkan kalimat : \")                                                                                                                                \n",
    "huruf   = input(\"==> Masukkan huruf yang dicari : \")\n",
    "noHuruf = 1\n",
    "\n",
    "for i in range(len(kalimat)) :\n",
    "    if kalimat[i].lower() == huruf.lower() :\n",
    "        print(\"Huruf %s atau huruf %s ke- %d : offset- %d\"%(huruf.lower(),huruf.upper(),noHuruf,i))\n",
    "        noHuruf+=1\n"
   ]
  },
  {
   "cell_type": "markdown",
   "id": "1509d041",
   "metadata": {},
   "source": [
    "#### **2.3 Konversi Bilangan**\n",
    "Buatlah code menu untuk konversi bilangan dari Desimal ke Biner dan sebaliknya, yaitu :\n",
    "• pilihan 1: Desimal ke Biner (input Desimal, output Biner)\n",
    "• pilihan 2: Biner ke Desimal (input Biner, output Desimal)\n",
    "• menu lagi, apakah user akan mengulangi operasi ataukah berhenti"
   ]
  },
  {
   "cell_type": "code",
   "execution_count": 3,
   "id": "bb622abd",
   "metadata": {},
   "outputs": [
    {
     "name": "stdout",
     "output_type": "stream",
     "text": [
      "\n",
      "\n",
      "Menu\n",
      "----\n",
      "1.) Tekan 1 untuk konversi desimal ke biner\n",
      "2.) Tekan 2 untuk konversi biner ke desimal\n",
      "\n",
      "\n",
      "                \n",
      "==> Masukkan Pilihan anda : 1\n",
      "Masukkan bilangan desimal : 4\n",
      "Biner :  100\n",
      "Apakah anda ingin melanjutkan program y/t : y\n",
      "========================================================\n",
      "\n",
      "\n",
      "Menu\n",
      "----\n",
      "1.) Tekan 1 untuk konversi desimal ke biner\n",
      "2.) Tekan 2 untuk konversi biner ke desimal\n",
      "\n",
      "\n",
      "                \n",
      "==> Masukkan Pilihan anda : 2\n",
      "Masukkan bilangan biner : 100\n",
      "Desimal :  4\n",
      "Apakah anda ingin melanjutkan program y/t : t\n",
      "========================================================\n"
     ]
    }
   ],
   "source": [
    "while True :\n",
    "    print(\"\"\"\n",
    "\n",
    "Menu\n",
    "----\n",
    "1.) Tekan 1 untuk konversi desimal ke biner\n",
    "2.) Tekan 2 untuk konversi biner ke desimal\n",
    "\n",
    "\n",
    "                \"\"\")\n",
    "    pilih = int(input(\"==> Masukkan Pilihan anda : \"))\n",
    "\n",
    "\n",
    "\n",
    "    if pilih == 1 : \n",
    "    #============Bagian Desimal ke Biner============#\n",
    "        convBiner = \"\"\n",
    "        desimal = int(input(\"Masukkan bilangan desimal : \"))\n",
    "        while True :\n",
    "            biner       = desimal % 2\n",
    "            desimal     = desimal // 2\n",
    "            convBiner   = str(biner)+convBiner\n",
    "            if desimal == 0 :\n",
    "                convBiner = convBiner\n",
    "                print(\"Biner : \",convBiner)\n",
    "                break\n",
    "    #============End Bagian Desimal ke Biner============#\n",
    "        \n",
    "        \n",
    "    elif pilih == 2 :\n",
    "    #============Bagian Desimal ke Biner============#\n",
    "        biner = input(\"Masukkan bilangan biner : \")[::-1] #Reverse String biner\n",
    "        total = 0\n",
    "        index = 0\n",
    "    \n",
    "        for bi in biner :\n",
    "            if bi == \"1\" :\n",
    "                total = 2**index + total\n",
    "            index+=1\n",
    "\n",
    "        print(\"Desimal : \",total)\n",
    "    #============End Bagian Biner ke Desimal============#\n",
    "        \n",
    "    else :\n",
    "        print(\"Yang anda masukkan tidak ada di menu\")\n",
    "\n",
    "        \n",
    "    lanjut = input(\"Apakah anda ingin melanjutkan program y/t : \")\n",
    "    print(\"========================================================\")\n",
    "    if lanjut == \"t\" :\n",
    "            break\n"
   ]
  }
 ],
 "metadata": {
  "kernelspec": {
   "display_name": "alpro-env",
   "language": "python",
   "name": "alpro-env"
  },
  "language_info": {
   "codemirror_mode": {
    "name": "ipython",
    "version": 3
   },
   "file_extension": ".py",
   "mimetype": "text/x-python",
   "name": "python",
   "nbconvert_exporter": "python",
   "pygments_lexer": "ipython3",
   "version": "3.7.3"
  }
 },
 "nbformat": 4,
 "nbformat_minor": 5
}
